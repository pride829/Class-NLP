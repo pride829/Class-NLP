{
 "cells": [
  {
   "cell_type": "markdown",
   "metadata": {
    "id": "skPDgNS58rFf"
   },
   "source": [
    "# Week 13: Example Sentences Classification\n",
    "In the last two assignment, we use deep learning method to do classification task. We can get good result by deep learning, but we can hardly explain the classification result(i.e., we don't know why the phrase is classified as \"good\" phrase). Hence, in this assignment, we want you do classification again, but do it by traditional machine learning method. In this way, you can know *why* more. We want you implement this on example sentences(e.g., \"This song has a brilliant piano intro.\" for word \"brilliant\").\n",
    "\n",
    "[Here](https://drive.google.com/drive/folders/1ij20ecLlI1Zh5CdMAa91SXQzmpKfdBdJ?usp=sharing) are two files needed for this task: **train.jsonl** & **test.jsonl**. In these files, each line records one example sentence with its label. There're two types of labels: ***positive*** means it's *good* example sentence;  ***negative*** means it's *bad* example sentence."
   ]
  },
  {
   "cell_type": "markdown",
   "metadata": {
    "id": "e3jvUPRw8rFi"
   },
   "source": [
    "## Read Data\n",
    "We use dataframe to keep data in this assignment."
   ]
  },
  {
   "cell_type": "code",
   "execution_count": 1,
   "metadata": {
    "id": "dtHcqH788rFj"
   },
   "outputs": [],
   "source": [
    "import json\n",
    "import pandas as pd"
   ]
  },
  {
   "cell_type": "code",
   "execution_count": 2,
   "metadata": {
    "id": "IMYSnsTm8rFk"
   },
   "outputs": [],
   "source": [
    "def read_data_to_df(path):\n",
    "    labels = []\n",
    "    sentences = []\n",
    "    with open(path, 'r') as f:\n",
    "        for line in f.readlines():\n",
    "            line = json.loads(line)\n",
    "            sentences.append(line['text'])\n",
    "            labels.append(line['label'])\n",
    "    return pd.DataFrame({'sent':sentences,'label':labels})  "
   ]
  },
  {
   "cell_type": "code",
   "execution_count": 4,
   "metadata": {
    "id": "fiO7gnYN8rFl",
    "outputId": "40fed14f-db99-4b3d-fdba-c877a45eb12d"
   },
   "outputs": [
    {
     "name": "stdout",
     "output_type": "stream",
     "text": [
      "                                                sent     label\n",
      "0         My children threw a birthday party for me.  positive\n",
      "1  Marketing on social networking sites is a fast...  positive\n",
      "2                You pillock, look what you've done!  positive\n",
      "3      He scored three touchdowns early in the game.  positive\n",
      "4          His abrupt manner makes me uncomfortable.  positive\n",
      "                                                sent     label\n",
      "0  I've just spotted Mark - he's over there, near...  positive\n",
      "1  After repricing, the bonds yield a much higher...  positive\n",
      "2             I admire her staunchness and fidelity.  positive\n",
      "3  The party's leader is in favour of the treaty ...  positive\n",
      "4  About 20 companies are working on treatments f...  positive\n"
     ]
    }
   ],
   "source": [
    "train = read_data_to_df('data/train.jsonl')\n",
    "print(train.head())\n",
    "test = read_data_to_df('data/test.jsonl')\n",
    "print(test.head())"
   ]
  },
  {
   "cell_type": "markdown",
   "metadata": {
    "id": "fYwKypbh8rFm"
   },
   "source": [
    "## Extract Features\n",
    "Traditional machine learning need data scientists to observe data and find out some useful information. \n",
    "\n",
    "Here is an example:"
   ]
  },
  {
   "cell_type": "code",
   "execution_count": 9,
   "metadata": {
    "id": "8KEgpP2J8rFm",
    "outputId": "36c2567b-2ef3-4b4f-c51e-f2a1053c4093"
   },
   "outputs": [
    {
     "name": "stdout",
     "output_type": "stream",
     "text": [
      "0.058014915590512126\n"
     ]
    }
   ],
   "source": [
    "import re\n",
    "# for positive\n",
    "spec = 0\n",
    "count = 0\n",
    "for i in train[train['label'] == \"positive\"][\"sent\"]:\n",
    "    #print(i)\n",
    "    #print(re.sub('[\\w\\s]','',i))\n",
    "    if len(re.sub('[\\w\\s]','',i)) >3:\n",
    "        spec+=1\n",
    "    count+=1\n",
    "print(spec/count)"
   ]
  },
  {
   "cell_type": "code",
   "execution_count": 8,
   "metadata": {
    "id": "EF-utx8V8rFn",
    "outputId": "045da3bf-2ddf-4a3b-a7a8-69a3a7d4fb0e"
   },
   "outputs": [
    {
     "name": "stdout",
     "output_type": "stream",
     "text": [
      "0.3834226149596325\n"
     ]
    }
   ],
   "source": [
    "spec = 0\n",
    "count=0\n",
    "for i in train[train['label'] == \"negative\"][\"sent\"]:\n",
    "    if len(re.sub('[\\w\\s]','',i)) >3:\n",
    "        spec+=1\n",
    "    count+=1\n",
    "print(spec/count)"
   ]
  },
  {
   "cell_type": "markdown",
   "metadata": {
    "id": "hjjEz-ft8rFo"
   },
   "source": [
    "After some experiment, we found 38% of bad example sentences have more than 3 punctuations. In contrast, only 5.8% of good example sentences have more than 3 punctuations. Hence, it seems that it is a nice feature to distinguish good and bad example sentences, so we add this feature."
   ]
  },
  {
   "cell_type": "code",
   "execution_count": 10,
   "metadata": {
    "id": "Xui1SJQH8rFo"
   },
   "outputs": [],
   "source": [
    "train[\"more than three punc\"] = [1 if len(re.sub('[\\w\\s]','',i)) >3 else 0 for i in train[\"sent\"]]\n",
    "test[\"more than three punc\"] = [1 if len(re.sub('[\\w\\s]','',i))>3 else 0 for i in test[\"sent\"]]"
   ]
  },
  {
   "cell_type": "code",
   "execution_count": 11,
   "metadata": {
    "id": "NRWFCH6g8rFo",
    "outputId": "3dac5009-7cf5-404e-c168-6787a7578bd3"
   },
   "outputs": [
    {
     "data": {
      "text/html": [
       "<div>\n",
       "<style scoped>\n",
       "    .dataframe tbody tr th:only-of-type {\n",
       "        vertical-align: middle;\n",
       "    }\n",
       "\n",
       "    .dataframe tbody tr th {\n",
       "        vertical-align: top;\n",
       "    }\n",
       "\n",
       "    .dataframe thead th {\n",
       "        text-align: right;\n",
       "    }\n",
       "</style>\n",
       "<table border=\"1\" class=\"dataframe\">\n",
       "  <thead>\n",
       "    <tr style=\"text-align: right;\">\n",
       "      <th></th>\n",
       "      <th>sent</th>\n",
       "      <th>label</th>\n",
       "      <th>more than three punc</th>\n",
       "    </tr>\n",
       "  </thead>\n",
       "  <tbody>\n",
       "    <tr>\n",
       "      <th>0</th>\n",
       "      <td>My children threw a birthday party for me.</td>\n",
       "      <td>positive</td>\n",
       "      <td>0</td>\n",
       "    </tr>\n",
       "    <tr>\n",
       "      <th>1</th>\n",
       "      <td>Marketing on social networking sites is a fast...</td>\n",
       "      <td>positive</td>\n",
       "      <td>0</td>\n",
       "    </tr>\n",
       "    <tr>\n",
       "      <th>2</th>\n",
       "      <td>You pillock, look what you've done!</td>\n",
       "      <td>positive</td>\n",
       "      <td>0</td>\n",
       "    </tr>\n",
       "    <tr>\n",
       "      <th>3</th>\n",
       "      <td>He scored three touchdowns early in the game.</td>\n",
       "      <td>positive</td>\n",
       "      <td>0</td>\n",
       "    </tr>\n",
       "    <tr>\n",
       "      <th>4</th>\n",
       "      <td>His abrupt manner makes me uncomfortable.</td>\n",
       "      <td>positive</td>\n",
       "      <td>0</td>\n",
       "    </tr>\n",
       "  </tbody>\n",
       "</table>\n",
       "</div>"
      ],
      "text/plain": [
       "                                                sent     label  \\\n",
       "0         My children threw a birthday party for me.  positive   \n",
       "1  Marketing on social networking sites is a fast...  positive   \n",
       "2                You pillock, look what you've done!  positive   \n",
       "3      He scored three touchdowns early in the game.  positive   \n",
       "4          His abrupt manner makes me uncomfortable.  positive   \n",
       "\n",
       "   more than three punc  \n",
       "0                     0  \n",
       "1                     0  \n",
       "2                     0  \n",
       "3                     0  \n",
       "4                     0  "
      ]
     },
     "execution_count": 11,
     "metadata": {},
     "output_type": "execute_result"
    }
   ],
   "source": [
    "train.head()"
   ]
  },
  {
   "cell_type": "markdown",
   "metadata": {
    "id": "DqcP3Ddv8rFp"
   },
   "source": [
    "<font color=\"red\">**[ TODO ]**</font> Please observe the data and extract at least three features and add them to the dataframe."
   ]
  },
  {
   "cell_type": "code",
   "execution_count": 99,
   "metadata": {},
   "outputs": [],
   "source": [
    "def test_data(f, train):\n",
    "    count = 0\n",
    "    for s in train[train['label'] == \"positive\"][\"sent\"]:\n",
    "        if(f(s)):\n",
    "            count += 1\n",
    "            \n",
    "    pos_ratio = count / train[train['label'] == \"positive\"][\"sent\"].count()\n",
    "    \n",
    "    count = 0\n",
    "    for s in train[train['label'] == \"negative\"][\"sent\"]:\n",
    "        if(f(s)):\n",
    "            count += 1\n",
    "    \n",
    "    neg_ratio = count / train[train['label'] == \"negative\"][\"sent\"].count()\n",
    "    \n",
    "    return [pos_ratio, neg_ratio]\n",
    "    "
   ]
  },
  {
   "cell_type": "code",
   "execution_count": 168,
   "metadata": {},
   "outputs": [
    {
     "name": "stdout",
     "output_type": "stream",
     "text": [
      "93.26986706957862\n",
      "131046\n",
      "63.21707321393775\n",
      "112902\n",
      "64.79810916236774\n",
      "24.068649119044714\n",
      "135.4230205710719 -8.988874143196384\n",
      "[0.990168464686188, 0.8436426903530058]\n"
     ]
    }
   ],
   "source": [
    "# Find average length\n",
    "len_sum = 0\n",
    "\n",
    "neg = train[train['label'] == \"negative\"][\"sent\"]\n",
    "\n",
    "for i in neg:\n",
    "    len_sum += len(i)\n",
    "neg_avg_len = len_sum / neg.count()\n",
    "neg_count = neg.count()\n",
    "print(neg_avg_len)\n",
    "print(neg_count)\n",
    "\n",
    "len_sum = 0\n",
    "\n",
    "pos = train[train['label'] == \"positive\"][\"sent\"]\n",
    "\n",
    "for i in pos:\n",
    "    len_sum += len(i)\n",
    "pos_avg_len = len_sum / pos.count()\n",
    "pos_count = pos.count()\n",
    "print(pos_avg_len)\n",
    "print(pos_count)\n",
    "\n",
    "# Calculate standard deviation\n",
    "\n",
    "neg_sd = 0\n",
    "for s in neg:\n",
    "    neg_sd += (len(s) - neg_avg_len) ** 2\n",
    "neg_sd /= neg_count\n",
    "neg_sd = neg_sd ** (1/2)\n",
    "\n",
    "print(neg_sd)\n",
    "\n",
    "\n",
    "pos_sd = 0\n",
    "for s in pos:\n",
    "    pos_sd += (len(s) - pos_avg_len) ** 2\n",
    "pos_sd /= pos_count\n",
    "pos_sd = pos_sd ** (1/2)\n",
    "\n",
    "print(pos_sd)\n",
    "\n",
    "sd_range_ratio = 2.5\n",
    "\n",
    "len_high = pos_avg_len + sd_range_ratio * pos_sd\n",
    "len_low = pos_avg_len - sd_range_ratio * pos_sd\n",
    "print(len_high, len_low)\n",
    "\n",
    "def if_len_not_in_range(s):\n",
    "    if(len(s) > len_high or len(s) < len_low):\n",
    "        return True\n",
    "    return False\n",
    "\n",
    "print(test_data(if_len_in_range, train))\n"
   ]
  },
  {
   "cell_type": "code",
   "execution_count": 169,
   "metadata": {},
   "outputs": [],
   "source": [
    "train[\"len_not_in_range\"] = [1 if if_len_not_in_range(s) else 0 for s in train[\"sent\"]]\n",
    "test[\"len_not_in_range\"] = [1 if if_len_not_in_range(s) else 0 for s in test[\"sent\"]]"
   ]
  },
  {
   "cell_type": "code",
   "execution_count": 146,
   "metadata": {},
   "outputs": [
    {
     "name": "stdout",
     "output_type": "stream",
     "text": [
      "[0.04452534056084038, 0.07149397921340599]\n"
     ]
    }
   ],
   "source": [
    "def if_contains_noneASCII(s):\n",
    "    none_ASCII = re.sub(r'[\\u0000-\\u007F]+', '', s)\n",
    "    limit = 1\n",
    "    if(len(none_ASCII) > limit):\n",
    "        return True\n",
    "    return False\n",
    "    \n",
    "print(test_data(if_contains_noneASCII, train))"
   ]
  },
  {
   "cell_type": "code",
   "execution_count": 147,
   "metadata": {},
   "outputs": [],
   "source": [
    "train[\"contains_noneASCII\"] = [1 if if_contains_noneASCII(s) else 0 for s in train[\"sent\"]]\n",
    "test[\"contains_noneASCII\"] = [1 if if_contains_noneASCII(s) else 0 for s in test[\"sent\"]]"
   ]
  },
  {
   "cell_type": "code",
   "execution_count": 103,
   "metadata": {},
   "outputs": [
    {
     "name": "stdout",
     "output_type": "stream",
     "text": [
      "[0.01467644505854635, 0.2866321749614639]\n"
     ]
    }
   ],
   "source": [
    "def if_many_uppercase(s):\n",
    "    upper = re.sub(r'[^A-Z]', '', s)\n",
    "    limit = 4\n",
    "    if(len(upper) > limit):\n",
    "        return True \n",
    "\n",
    "    return False\n",
    "\n",
    "print(test_data(if_many_uppercase, train))"
   ]
  },
  {
   "cell_type": "code",
   "execution_count": 104,
   "metadata": {},
   "outputs": [],
   "source": [
    "train[\"many_uppercase\"] = [1 if if_many_uppercase(s) else 0 for s in train[\"sent\"]]\n",
    "test[\"many_uppercase\"] = [1 if if_many_uppercase(s) else 0 for s in test[\"sent\"]]"
   ]
  },
  {
   "cell_type": "code",
   "execution_count": 157,
   "metadata": {},
   "outputs": [
    {
     "name": "stdout",
     "output_type": "stream",
     "text": [
      "2.0240739756603072\n"
     ]
    }
   ],
   "source": [
    "def avg_numbers(train):\n",
    "    \n",
    "    len_sum = 0\n",
    "    for s in train[train['label'] == \"negative\"][\"sent\"]:\n",
    "        numbers = re.sub(r'[^0-9]', '', s)\n",
    "        len_sum += len(numbers)\n",
    "    return len_sum / train[train['label'] == \"positive\"][\"sent\"].count()\n",
    "        \n",
    "print(avg_numbers(train))"
   ]
  },
  {
   "cell_type": "code",
   "execution_count": 162,
   "metadata": {},
   "outputs": [
    {
     "name": "stdout",
     "output_type": "stream",
     "text": [
      "[0.01467644505854635, 0.2866321749614639]\n"
     ]
    }
   ],
   "source": [
    "def if_many_numbers(s):\n",
    "    upper = re.sub(r'[^0-9]', '', s)\n",
    "    limit = 1\n",
    "    if(len(upper) > limit):\n",
    "        return True \n",
    "\n",
    "    return False\n",
    "\n",
    "print(test_data(if_many_uppercase, train))"
   ]
  },
  {
   "cell_type": "code",
   "execution_count": 163,
   "metadata": {},
   "outputs": [],
   "source": [
    "train[\"many_numbers\"] = [1 if if_many_numbers(s) else 0 for s in train[\"sent\"]]\n",
    "test[\"many_numbers\"] = [1 if if_many_numbers(s) else 0 for s in test[\"sent\"]]"
   ]
  },
  {
   "cell_type": "code",
   "execution_count": 210,
   "metadata": {},
   "outputs": [
    {
     "data": {
      "text/plain": [
       "6.980457773776895"
      ]
     },
     "execution_count": 210,
     "metadata": {},
     "output_type": "execute_result"
    }
   ],
   "source": [
    "def avg_word_len(train):\n",
    "    len_sum = 0\n",
    "    word_count = 0\n",
    "    for s in train[train[\"label\"] == \"negative\"]['sent']:\n",
    "        words = re.split(r'[^A-z]', s)\n",
    "        for w in words:\n",
    "            if len(w) > 4:\n",
    "                word_count += 1\n",
    "                len_sum += len(w)\n",
    "    return len_sum / word_count\n",
    "\n",
    "avg_word_len(train)"
   ]
  },
  {
   "cell_type": "code",
   "execution_count": 176,
   "metadata": {
    "id": "s3Gfv_Je8rFp"
   },
   "outputs": [
    {
     "name": "stdout",
     "output_type": "stream",
     "text": [
      "203018                                                                                                                                                                                                           Here’s hoping “Touch” continues to reach it.\n",
      "154870                                                                                                                                                                  In 1784 he became curate of Selborne for the last time, remaining so until his death.\n",
      "131383    Like liberal feminists, socialist or Marxist feminists acknowledge that men are necessary as part of the movement for change.<ref name=\":0\" /> Whatever the theory, socialist and Marxist countries have never had women in major government posts.\n",
      "145256                                                                                                                                              Also, in psychology, psychiatry and sociology, it may mean someone who has a big influence on the person.\n",
      "176831                                                                                                                                                                 Jesus Villamor and four Philippine fighter pilots fend them off; Cesar Basa is killed.\n",
      "178676                                                                                                                                                                 He was the first Roman Catholic Archdiocese of Mobile of Mobile and its eighth bishop.\n",
      "198315                                                                                                                                                                                                                            Smith did nothing about it.\n",
      "147674                                                                         His interests brought him to discover the Occitan language poetry of the troubadours and the Latin poetry of classical Ancient history (with a particular devotion to Virgil).\n",
      "177284                                                                                                                                                                                                                     It is also known for its beautie .\n",
      "145211                                                                           The party was the Official Opposition opposition in the Legislative Assembly of Alberta after the 2012 Alberta general election and 2015 Alberta general election elections.\n",
      "Name: sent, dtype: object\n"
     ]
    }
   ],
   "source": [
    "pd.set_option('display.width', None)\n",
    "pd.set_option('display.max_colwidth', None)\n",
    "print(train[train['label'] == 'negative']['sent'].sample(n=10, random_state=None))"
   ]
  },
  {
   "cell_type": "code",
   "execution_count": 178,
   "metadata": {},
   "outputs": [
    {
     "name": "stdout",
     "output_type": "stream",
     "text": [
      "59273                                                                             The plane went into a dive.\n",
      "5817                                                    To be parted from him even for two days made her sad.\n",
      "28607     The phone group plans to flog its new handsets for £30 apiece to people signing one-year contracts.\n",
      "45596            Much of the investment was directed to Greater London, the West Midlands and the North West.\n",
      "120926                 It would take a worldwide depression to drastically reduce the current demand for oil.\n",
      "21344                                             She revolutionized fashion reporting with her breezy style.\n",
      "42841                                                               We were upgraded and flew business class.\n",
      "16445                                 The minister opened the door and sallied forth to face the angry crowd.\n",
      "23572                                        The side wall of the old house was braced with a wooden support.\n",
      "59381                                                               She tripped over a toy lying on the path.\n",
      "Name: sent, dtype: object\n"
     ]
    }
   ],
   "source": [
    "print(train[train['label'] == 'positive']['sent'].sample(n=10, random_state=None))"
   ]
  },
  {
   "cell_type": "code",
   "execution_count": 144,
   "metadata": {},
   "outputs": [
    {
     "data": {
      "text/plain": [
       "sent                    Paul beat me by three games to two (= he won three and I won two).\n",
       "label                                                                             negative\n",
       "more than three punc                                                                     1\n",
       "contains_noneASCII                                                                       0\n",
       "many_uppercase                                                                           0\n",
       "len_not_in_range                                                                         0\n",
       "Name: 91313, dtype: object"
      ]
     },
     "execution_count": 144,
     "metadata": {},
     "output_type": "execute_result"
    }
   ],
   "source": [
    "train.loc[91313]"
   ]
  },
  {
   "cell_type": "markdown",
   "metadata": {
    "id": "JjzzDXsV8rFp"
   },
   "source": [
    "## Train\n",
    "Now, it's time to evaluate whether the features just selected is useful to classify. We use [Bernoulli Naive Bayes model](https://scikit-learn.org/stable/modules/naive_bayes.html#bernoulli-naive-bayes) to train training data. "
   ]
  },
  {
   "cell_type": "code",
   "execution_count": 96,
   "metadata": {
    "id": "gGec8PDW8rFq"
   },
   "outputs": [],
   "source": [
    "from sklearn.naive_bayes import BernoulliNB\n",
    "bnb = BernoulliNB()"
   ]
  },
  {
   "cell_type": "markdown",
   "metadata": {
    "id": "IffCrLvf8rFq"
   },
   "source": [
    "<font color=\"red\">**[ TODO ]**</font> Please adjust the `selected_features` list and train the model.\n",
    "\n",
    "***Don't*** use other model in this assignment."
   ]
  },
  {
   "cell_type": "code",
   "execution_count": 164,
   "metadata": {
    "id": "UBazhh0x8rFq"
   },
   "outputs": [],
   "source": [
    "selected_features = [\"more than three punc\",\n",
    "                     \"many_uppercase\",\n",
    "                     \"contains_noneASCII\",\n",
    "                     \"len_not_in_range\",\n",
    "                     \"many_numbers\"]"
   ]
  },
  {
   "cell_type": "code",
   "execution_count": 170,
   "metadata": {
    "id": "FWeeyHj38rFq"
   },
   "outputs": [],
   "source": [
    "y_pred = bnb.fit(train[selected_features], train['label']).predict(test[selected_features])"
   ]
  },
  {
   "cell_type": "markdown",
   "metadata": {
    "id": "43FpNagS8rFr"
   },
   "source": [
    "## Test\n",
    "Test the model and get the accuracy of the prediction on testing data. \n",
    "\n",
    "There're four baselines for this task:\n",
    "```\n",
    "1. simple baseline: 0.65\n",
    "2. medium baseline: 0.72\n",
    "3. strong baseline: 0.8\n",
    "4. boss baseline: 0.85\n",
    "```\n",
    "The more the baseline you pass, the more higher the grade you can get.\n",
    "\n",
    "*hint: If the result isn't ideal, you can print the wrong prediction data and re-observe but only focus on wrong data to extract other features."
   ]
  },
  {
   "cell_type": "code",
   "execution_count": 171,
   "metadata": {
    "id": "FYOHrFtk8rFr",
    "outputId": "39a87798-7645-4a14-a98a-856dedc5c8ef"
   },
   "outputs": [
    {
     "name": "stdout",
     "output_type": "stream",
     "text": [
      "0.7428243774574049\n"
     ]
    }
   ],
   "source": [
    "print((test['label'] == y_pred).sum()/len(test))"
   ]
  },
  {
   "cell_type": "markdown",
   "metadata": {
    "id": "pLkF-92v8rFr"
   },
   "source": [
    "## TA's Notes\n",
    "\n",
    "If you complete the Assignment, please use [this link](https://docs.google.com/spreadsheets/d/1QGeYl5dsD9sFO9SYg4DIKk-xr-yGjRDOOLKZqCLDv2E/edit#gid=1031097651) to reserve demo time.  \n",
    "The score is only given after TAs review your implementation, so <u>**make sure you make a appointment with a TA before you miss the deadline**</u> .  <br>After demo, please upload your assignment to eeclass. You just need to hand in this ipynb file and rename it as XXXXXXXXX(Your student ID).ipynb.\n",
    "<br>Note that **late submission will not be allowed**."
   ]
  }
 ],
 "metadata": {
  "colab": {
   "collapsed_sections": [],
   "name": "Week13_example_sentences_classification.ipynb",
   "provenance": []
  },
  "kernelspec": {
   "display_name": "Python 3",
   "language": "python",
   "name": "python3"
  },
  "language_info": {
   "codemirror_mode": {
    "name": "ipython",
    "version": 3
   },
   "file_extension": ".py",
   "mimetype": "text/x-python",
   "name": "python",
   "nbconvert_exporter": "python",
   "pygments_lexer": "ipython3",
   "version": "3.8.8"
  }
 },
 "nbformat": 4,
 "nbformat_minor": 1
}
