{
 "cells": [
  {
   "cell_type": "markdown",
   "metadata": {
    "id": "skPDgNS58rFf"
   },
   "source": [
    "# Week 13: Example Sentences Classification\n",
    "In the last two assignment, we use deep learning method to do classification task. We can get good result by deep learning, but we can hardly explain the classification result(i.e., we don't know why the phrase is classified as \"good\" phrase). Hence, in this assignment, we want you do classification again, but do it by traditional machine learning method. In this way, you can know *why* more. We want you implement this on example sentences(e.g., \"This song has a brilliant piano intro.\" for word \"brilliant\").\n",
    "\n",
    "[Here](https://drive.google.com/drive/folders/1ij20ecLlI1Zh5CdMAa91SXQzmpKfdBdJ?usp=sharing) are two files needed for this task: **train.jsonl** & **test.jsonl**. In these files, each line records one example sentence with its label. There're two types of labels: ***positive*** means it's *good* example sentence;  ***negative*** means it's *bad* example sentence."
   ]
  },
  {
   "cell_type": "markdown",
   "metadata": {
    "id": "e3jvUPRw8rFi"
   },
   "source": [
    "## Read Data\n",
    "We use dataframe to keep data in this assignment."
   ]
  },
  {
   "cell_type": "code",
   "execution_count": 1,
   "metadata": {
    "id": "dtHcqH788rFj"
   },
   "outputs": [],
   "source": [
    "import json\n",
    "import pandas as pd\n",
    "\n"
   ]
  },
  {
   "cell_type": "code",
   "execution_count": 2,
   "metadata": {
    "id": "IMYSnsTm8rFk"
   },
   "outputs": [],
   "source": [
    "def read_data_to_df(path):\n",
    "    labels = []\n",
    "    sentences = []\n",
    "    with open(path, 'r') as f:\n",
    "        for line in f.readlines():\n",
    "            line = json.loads(line)\n",
    "            sentences.append(line['text'])\n",
    "            labels.append(line['label'])\n",
    "    return pd.DataFrame({'sent':sentences,'label':labels})  "
   ]
  },
  {
   "cell_type": "code",
   "execution_count": 3,
   "metadata": {
    "id": "fiO7gnYN8rFl",
    "outputId": "40fed14f-db99-4b3d-fdba-c877a45eb12d"
   },
   "outputs": [
    {
     "name": "stdout",
     "output_type": "stream",
     "text": [
      "                                                sent     label\n",
      "0         My children threw a birthday party for me.  positive\n",
      "1  Marketing on social networking sites is a fast...  positive\n",
      "2                You pillock, look what you've done!  positive\n",
      "3      He scored three touchdowns early in the game.  positive\n",
      "4          His abrupt manner makes me uncomfortable.  positive\n",
      "                                                sent     label\n",
      "0  I've just spotted Mark - he's over there, near...  positive\n",
      "1  After repricing, the bonds yield a much higher...  positive\n",
      "2             I admire her staunchness and fidelity.  positive\n",
      "3  The party's leader is in favour of the treaty ...  positive\n",
      "4  About 20 companies are working on treatments f...  positive\n"
     ]
    }
   ],
   "source": [
    "train = read_data_to_df('data/train.jsonl')\n",
    "print(train.head())\n",
    "test = read_data_to_df('data/test.jsonl')\n",
    "print(test.head())"
   ]
  },
  {
   "cell_type": "markdown",
   "metadata": {
    "id": "fYwKypbh8rFm"
   },
   "source": [
    "## Extract Features\n",
    "Traditional machine learning need data scientists to observe data and find out some useful information. \n",
    "\n",
    "Here is an example:"
   ]
  },
  {
   "cell_type": "code",
   "execution_count": 4,
   "metadata": {
    "id": "8KEgpP2J8rFm",
    "outputId": "36c2567b-2ef3-4b4f-c51e-f2a1053c4093"
   },
   "outputs": [
    {
     "name": "stdout",
     "output_type": "stream",
     "text": [
      "0.058014915590512126\n"
     ]
    }
   ],
   "source": [
    "import re\n",
    "# for positive\n",
    "spec = 0\n",
    "count = 0\n",
    "for i in train[train['label'] == \"positive\"][\"sent\"]:\n",
    "    #print(i)\n",
    "    #print(re.sub('[\\w\\s]','',i))\n",
    "    if len(re.sub('[\\w\\s]','',i)) >3:\n",
    "        spec+=1\n",
    "    count+=1\n",
    "print(spec/count)"
   ]
  },
  {
   "cell_type": "code",
   "execution_count": 5,
   "metadata": {
    "id": "EF-utx8V8rFn",
    "outputId": "045da3bf-2ddf-4a3b-a7a8-69a3a7d4fb0e"
   },
   "outputs": [
    {
     "name": "stdout",
     "output_type": "stream",
     "text": [
      "0.3834226149596325\n"
     ]
    }
   ],
   "source": [
    "spec = 0\n",
    "count=0\n",
    "for i in train[train['label'] == \"negative\"][\"sent\"]:\n",
    "    if len(re.sub('[\\w\\s]','',i)) >3:\n",
    "        spec+=1\n",
    "    count+=1\n",
    "print(spec/count)"
   ]
  },
  {
   "cell_type": "markdown",
   "metadata": {
    "id": "hjjEz-ft8rFo"
   },
   "source": [
    "After some experiment, we found 38% of bad example sentences have more than 3 punctuations. In contrast, only 5.8% of good example sentences have more than 3 punctuations. Hence, it seems that it is a nice feature to distinguish good and bad example sentences, so we add this feature."
   ]
  },
  {
   "cell_type": "code",
   "execution_count": 6,
   "metadata": {
    "id": "NRWFCH6g8rFo",
    "outputId": "3dac5009-7cf5-404e-c168-6787a7578bd3"
   },
   "outputs": [
    {
     "data": {
      "text/html": [
       "<div>\n",
       "<style scoped>\n",
       "    .dataframe tbody tr th:only-of-type {\n",
       "        vertical-align: middle;\n",
       "    }\n",
       "\n",
       "    .dataframe tbody tr th {\n",
       "        vertical-align: top;\n",
       "    }\n",
       "\n",
       "    .dataframe thead th {\n",
       "        text-align: right;\n",
       "    }\n",
       "</style>\n",
       "<table border=\"1\" class=\"dataframe\">\n",
       "  <thead>\n",
       "    <tr style=\"text-align: right;\">\n",
       "      <th></th>\n",
       "      <th>sent</th>\n",
       "      <th>label</th>\n",
       "    </tr>\n",
       "  </thead>\n",
       "  <tbody>\n",
       "    <tr>\n",
       "      <th>0</th>\n",
       "      <td>My children threw a birthday party for me.</td>\n",
       "      <td>positive</td>\n",
       "    </tr>\n",
       "    <tr>\n",
       "      <th>1</th>\n",
       "      <td>Marketing on social networking sites is a fast...</td>\n",
       "      <td>positive</td>\n",
       "    </tr>\n",
       "    <tr>\n",
       "      <th>2</th>\n",
       "      <td>You pillock, look what you've done!</td>\n",
       "      <td>positive</td>\n",
       "    </tr>\n",
       "    <tr>\n",
       "      <th>3</th>\n",
       "      <td>He scored three touchdowns early in the game.</td>\n",
       "      <td>positive</td>\n",
       "    </tr>\n",
       "    <tr>\n",
       "      <th>4</th>\n",
       "      <td>His abrupt manner makes me uncomfortable.</td>\n",
       "      <td>positive</td>\n",
       "    </tr>\n",
       "  </tbody>\n",
       "</table>\n",
       "</div>"
      ],
      "text/plain": [
       "                                                sent     label\n",
       "0         My children threw a birthday party for me.  positive\n",
       "1  Marketing on social networking sites is a fast...  positive\n",
       "2                You pillock, look what you've done!  positive\n",
       "3      He scored three touchdowns early in the game.  positive\n",
       "4          His abrupt manner makes me uncomfortable.  positive"
      ]
     },
     "execution_count": 6,
     "metadata": {},
     "output_type": "execute_result"
    }
   ],
   "source": [
    "train.head()"
   ]
  },
  {
   "cell_type": "markdown",
   "metadata": {
    "id": "DqcP3Ddv8rFp"
   },
   "source": [
    "<font color=\"red\">**[ TODO ]**</font> Please observe the data and extract at least three features and add them to the dataframe."
   ]
  },
  {
   "cell_type": "code",
   "execution_count": 7,
   "metadata": {},
   "outputs": [],
   "source": [
    "def test_data(f, train, *args):\n",
    "    \n",
    "    \n",
    "    count = 0\n",
    "    for s in train[train['label'] == \"positive\"][\"sent\"]:\n",
    "        \n",
    "        if(args):\n",
    "            if(f(s, args[0])):\n",
    "                count += 1\n",
    "        else:\n",
    "            if(f(s)):\n",
    "                count += 1\n",
    "\n",
    "            \n",
    "    pos_ratio = count / train[train['label'] == \"positive\"][\"sent\"].count()\n",
    "    \n",
    "    count = 0\n",
    "    for s in train[train['label'] == \"negative\"][\"sent\"]:\n",
    "        if(args):\n",
    "            if(f(s, args[0])):\n",
    "                count += 1\n",
    "        else:\n",
    "            if(f(s)):\n",
    "                count += 1\n",
    "    \n",
    "    neg_ratio = count / train[train['label'] == \"negative\"][\"sent\"].count()\n",
    "    \n",
    "    return [pos_ratio, neg_ratio]\n",
    "    "
   ]
  },
  {
   "cell_type": "code",
   "execution_count": 8,
   "metadata": {},
   "outputs": [
    {
     "data": {
      "text/plain": [
       "[0.05512257333144396, 0.3833963184200902]"
      ]
     },
     "execution_count": 8,
     "metadata": {},
     "output_type": "execute_result"
    }
   ],
   "source": [
    "def if_more_than_three_punc(s):\n",
    "    if len(re.sub('[\\w\\s]','',s)) > 3:\n",
    "        return True\n",
    "    return False\n",
    "\n",
    "test_data(if_more_than_three_punc, test)"
   ]
  },
  {
   "cell_type": "code",
   "execution_count": 9,
   "metadata": {},
   "outputs": [
    {
     "name": "stdout",
     "output_type": "stream",
     "text": [
      "93.26986706957862\n",
      "131046\n",
      "63.21707321393775\n",
      "112902\n",
      "64.79810916236774\n",
      "24.068649119044714\n",
      "[0.0779348461497582, 0.33739297651206446]\n"
     ]
    }
   ],
   "source": [
    "# Find average length\n",
    "len_sum = 0\n",
    "\n",
    "neg = train[train['label'] == \"negative\"][\"sent\"]\n",
    "\n",
    "for i in neg:\n",
    "    len_sum += len(i)\n",
    "neg_avg_len = len_sum / neg.count()\n",
    "neg_count = neg.count()\n",
    "print(neg_avg_len)\n",
    "print(neg_count)\n",
    "\n",
    "len_sum = 0\n",
    "\n",
    "pos = train[train['label'] == \"positive\"][\"sent\"]\n",
    "\n",
    "for i in pos:\n",
    "    len_sum += len(i)\n",
    "pos_avg_len = len_sum / pos.count()\n",
    "pos_count = pos.count()\n",
    "print(pos_avg_len)\n",
    "print(pos_count)\n",
    "\n",
    "# Calculate standard deviation\n",
    "\n",
    "neg_sd = 0\n",
    "for s in neg:\n",
    "    neg_sd += (len(s) - neg_avg_len) ** 2\n",
    "neg_sd /= neg_count\n",
    "neg_sd = neg_sd ** (1/2)\n",
    "\n",
    "print(neg_sd)\n",
    "\n",
    "\n",
    "pos_sd = 0\n",
    "for s in pos:\n",
    "    pos_sd += (len(s) - pos_avg_len) ** 2\n",
    "pos_sd /= pos_count\n",
    "pos_sd = pos_sd ** (1/2)\n",
    "\n",
    "print(pos_sd)\n",
    "\n",
    "sd_range_ratio = 1.66\n",
    "\n",
    "def if_len_not_in_range(s, sd_range_ratio):\n",
    "    \n",
    "    len_high = pos_avg_len + sd_range_ratio * pos_sd\n",
    "    len_low = pos_avg_len - sd_range_ratio * pos_sd\n",
    "    if(len(s) > len_high or len(s) < len_low):\n",
    "        return True\n",
    "    return False\n",
    "\n",
    "print(test_data(if_len_not_in_range, train, sd_range_ratio))"
   ]
  },
  {
   "cell_type": "code",
   "execution_count": 10,
   "metadata": {},
   "outputs": [
    {
     "name": "stdout",
     "output_type": "stream",
     "text": [
      "[0.04966699730763781, 0.07314397171766426]\n"
     ]
    }
   ],
   "source": [
    "def if_contains_noneASCII(s):\n",
    "    none_ASCII = re.sub(r'[\\u0000-\\u007F]+', '', s)\n",
    "    limit = 0\n",
    "    if(len(none_ASCII) > limit):\n",
    "        return True\n",
    "    return False\n",
    "    \n",
    "print(test_data(if_contains_noneASCII, test))"
   ]
  },
  {
   "cell_type": "code",
   "execution_count": 11,
   "metadata": {},
   "outputs": [
    {
     "data": {
      "text/plain": [
       "True"
      ]
     },
     "execution_count": 11,
     "metadata": {},
     "output_type": "execute_result"
    }
   ],
   "source": [
    "if_contains_noneASCII(\"Béziers was the first place to be attacked.\")"
   ]
  },
  {
   "cell_type": "code",
   "execution_count": 12,
   "metadata": {},
   "outputs": [
    {
     "name": "stdout",
     "output_type": "stream",
     "text": [
      "[0.18775683718293892, 0.6251980982567353]\n"
     ]
    }
   ],
   "source": [
    "def if_many_uppercase(s):\n",
    "    upper = re.sub(r'[^A-Z]', '', s)\n",
    "    limit = 1\n",
    "    if(len(upper) > limit):\n",
    "        return True \n",
    "\n",
    "    return False\n",
    "\n",
    "print(test_data(if_many_uppercase, test))"
   ]
  },
  {
   "cell_type": "code",
   "execution_count": 13,
   "metadata": {},
   "outputs": [
    {
     "name": "stdout",
     "output_type": "stream",
     "text": [
      "2.0240739756603072\n"
     ]
    }
   ],
   "source": [
    "def avg_numbers(train):\n",
    "    \n",
    "    len_sum = 0\n",
    "    for s in train[train['label'] == \"negative\"][\"sent\"]:\n",
    "        numbers = re.sub(r'[^0-9]', '', s)\n",
    "        len_sum += len(numbers)\n",
    "    return len_sum / train[train['label'] == \"positive\"][\"sent\"].count()\n",
    "        \n",
    "print(avg_numbers(train))"
   ]
  },
  {
   "cell_type": "code",
   "execution_count": 14,
   "metadata": {},
   "outputs": [
    {
     "name": "stdout",
     "output_type": "stream",
     "text": [
      "[0.02391454535792103, 0.21844237901195]\n"
     ]
    }
   ],
   "source": [
    "def if_many_numbers(s):\n",
    "    upper = re.sub(r'[^0-9]', '', s)\n",
    "    limit = 3\n",
    "    if(len(upper) > limit):\n",
    "        return True \n",
    "\n",
    "    return False\n",
    "\n",
    "print(test_data(if_many_numbers, train))"
   ]
  },
  {
   "cell_type": "code",
   "execution_count": 15,
   "metadata": {},
   "outputs": [
    {
     "data": {
      "text/plain": [
       "6.980457773776895"
      ]
     },
     "execution_count": 15,
     "metadata": {},
     "output_type": "execute_result"
    }
   ],
   "source": [
    "def avg_word_len(train):\n",
    "    len_sum = 0\n",
    "    word_count = 0\n",
    "    for s in train[train[\"label\"] == \"negative\"]['sent']:\n",
    "        words = re.split(r'[^A-z]', s)\n",
    "        for w in words:\n",
    "            if len(w) > 4:\n",
    "                word_count += 1\n",
    "                len_sum += len(w)\n",
    "    return len_sum / word_count\n",
    "\n",
    "avg_word_len(train)"
   ]
  },
  {
   "cell_type": "code",
   "execution_count": 16,
   "metadata": {},
   "outputs": [],
   "source": [
    "sents = test[test['label'] == 'positive']['sent']\n",
    "\n",
    "pos_first_words = {}\n",
    "def embed_first_words(s, pos_first_words):\n",
    "    first = s.split()[0]\n",
    "    if(first in pos_first_words):\n",
    "        pos_first_words[first] += 1\n",
    "    else:\n",
    "        pos_first_words[first] = 1\n",
    "\n",
    "a = sents.apply(embed_first_words, args=(pos_first_words,))"
   ]
  },
  {
   "cell_type": "code",
   "execution_count": 17,
   "metadata": {},
   "outputs": [
    {
     "name": "stdout",
     "output_type": "stream",
     "text": [
      "[0.0, 0.24509325856394001] 0.24509325856394001\n"
     ]
    }
   ],
   "source": [
    "threshold = 0\n",
    "pos_first_words_df = pd.DataFrame.from_dict(pos_first_words, orient='index')\n",
    "pos_first_words_df = pos_first_words_df[pos_first_words_df[0] > threshold]\n",
    "pos_first_words_df.count()\n",
    "\n",
    "pos = pos_first_words_df.to_dict()\n",
    "\n",
    "pos = pos[0]\n",
    "\n",
    "def if_not_have_first_word(s, pos):\n",
    "    if((s.split())[0] in pos):\n",
    "        return False\n",
    "    return True\n",
    "\n",
    "tup = test_data(if_not_have_first_word, test, pos)\n",
    "print(tup, tup[1]-tup[0])\n"
   ]
  },
  {
   "cell_type": "code",
   "execution_count": 18,
   "metadata": {},
   "outputs": [
    {
     "data": {
      "text/plain": [
       "\"\\nmax_dif = 0\\nmax_t = 0\\nfor t in range(0, 100):\\n    pos_first_words_df = pd.DataFrame.from_dict(pos_first_words, orient='index')\\n    pos_first_words_df = pos_first_words_df[pos_first_words_df[0] > t]\\n    pos_first_words_df.count()\\n\\n    pos = pos_first_words_df.to_dict()\\n\\n    pos = pos[0]\\n    tup = test_data(if_not_have_first_word, test, pos)\\n    print(tup, tup[1]-tup[0])\\n    if tup[1]-tup[0] > max_dif:\\n        max_dif = tup[1]-tup[0]\\n        max_t = t\\n\""
      ]
     },
     "execution_count": 18,
     "metadata": {},
     "output_type": "execute_result"
    }
   ],
   "source": [
    "\"\"\"\n",
    "max_dif = 0\n",
    "max_t = 0\n",
    "for t in range(0, 100):\n",
    "    pos_first_words_df = pd.DataFrame.from_dict(pos_first_words, orient='index')\n",
    "    pos_first_words_df = pos_first_words_df[pos_first_words_df[0] > t]\n",
    "    pos_first_words_df.count()\n",
    "\n",
    "    pos = pos_first_words_df.to_dict()\n",
    "\n",
    "    pos = pos[0]\n",
    "    tup = test_data(if_not_have_first_word, test, pos)\n",
    "    print(tup, tup[1]-tup[0])\n",
    "    if tup[1]-tup[0] > max_dif:\n",
    "        max_dif = tup[1]-tup[0]\n",
    "        max_t = t\n",
    "\"\"\""
   ]
  },
  {
   "cell_type": "code",
   "execution_count": 19,
   "metadata": {},
   "outputs": [],
   "source": [
    "sents = test[test['label'] == 'positive']['sent']\n",
    "\n",
    "pos_last_words = {}\n",
    "\n",
    "def embed_last_words(s, pos_last_words):\n",
    "    pos_last_words[s.split()[-1]] = 1\n",
    "\n",
    "a = sents.apply(embed_last_words, args=(pos_last_words,))"
   ]
  },
  {
   "cell_type": "code",
   "execution_count": 20,
   "metadata": {},
   "outputs": [
    {
     "data": {
      "text/plain": [
       "6372"
      ]
     },
     "execution_count": 20,
     "metadata": {},
     "output_type": "execute_result"
    }
   ],
   "source": [
    "len(pos_last_words)"
   ]
  },
  {
   "cell_type": "code",
   "execution_count": 21,
   "metadata": {},
   "outputs": [],
   "source": [
    "def if_not_have_last_word(s, pos_last_words):\n",
    "    if((s.split())[-1] in pos_last_words):\n",
    "        return False\n",
    "    return True"
   ]
  },
  {
   "cell_type": "code",
   "execution_count": 22,
   "metadata": {},
   "outputs": [
    {
     "name": "stdout",
     "output_type": "stream",
     "text": [
      "[0.00033657508281518487, 0.0018237870671367305]\n"
     ]
    }
   ],
   "source": [
    "excluded_first_words = ['And']\n",
    "def if_first_word_excluded(s, excluded_first_words):\n",
    "    if((s.split())[0] in excluded_first_words):\n",
    "        return True\n",
    "    return False\n",
    "\n",
    "print(test_data(if_first_word_excluded, train, excluded_first_words))"
   ]
  },
  {
   "cell_type": "code",
   "execution_count": 23,
   "metadata": {
    "id": "s3Gfv_Je8rFp"
   },
   "outputs": [
    {
     "name": "stdout",
     "output_type": "stream",
     "text": [
      "18296                                           I’d say 40% are constructive, 40% are trivial, and 20% are unconstructive.\n",
      "21440                                     She doesn’t want to rely on a rich man, but decides to marry a poor man, Freddy.\n",
      "2538        I hoped that going to college might broaden my horizons (= increase the range of my knowledge and experience).\n",
      "5804     The detectives searched the house from top to bottom (= all over it), but they found no sign of the stolen goods.\n",
      "28913                            In March 2011, 2011 Tōhoku earthquake and tsunami occurred in wide area including Sendai.\n",
      "26238                                                                                        They do this in various ways.\n",
      "29761                                    They are guest stars in the episode as the characters they voice act in the show.\n",
      "18344                                                                              Approximately 20,000 people live there.\n",
      "28617                                                           He then allied himself with the Norman and Viking leaders.\n",
      "20282                                          For example, if the sound comes from the front of the mouth it is in 1 row.\n",
      "Name: sent, dtype: object\n"
     ]
    }
   ],
   "source": [
    "pd.set_option('display.width', None)\n",
    "pd.set_option('display.max_colwidth', None)\n",
    "print(test[test['label'] == 'negative']['sent'].sample(n=10, random_state=None))"
   ]
  },
  {
   "cell_type": "code",
   "execution_count": 24,
   "metadata": {},
   "outputs": [
    {
     "name": "stdout",
     "output_type": "stream",
     "text": [
      "41271                                               He let me drive his new car last night - it goes like a dream.\n",
      "85544    You've been putting off making that phone call for days - I think it's about time you grasped the nettle!\n",
      "1092                                                            Lady Tavistock was the chatelaine of Woburn Abbey.\n",
      "29094                                                                          I'm not sure where this bowl lives.\n",
      "91008                                    The regime in December issued new currency and wiped out private savings.\n",
      "34061                                                                              Our plane came down in a field.\n",
      "64980                                                                                             She's almost 30.\n",
      "23450                                                                        The salary was $40,000, plus a bonus.\n",
      "43406                                                    To win a seat, a candidate had to poll 50% plus one vote.\n",
      "33398                                                    He leaned forward to kiss her and she recoiled in horror.\n",
      "Name: sent, dtype: object\n"
     ]
    }
   ],
   "source": [
    "print(train[train['label'] == 'positive']['sent'].sample(n=10, random_state=None))"
   ]
  },
  {
   "cell_type": "code",
   "execution_count": 25,
   "metadata": {},
   "outputs": [
    {
     "data": {
      "text/plain": [
       "sent     Paul beat me by three games to two (= he won three and I won two).\n",
       "label                                                              negative\n",
       "Name: 91313, dtype: object"
      ]
     },
     "execution_count": 25,
     "metadata": {},
     "output_type": "execute_result"
    }
   ],
   "source": [
    "train.loc[91313]"
   ]
  },
  {
   "cell_type": "markdown",
   "metadata": {
    "id": "JjzzDXsV8rFp"
   },
   "source": [
    "## Train\n",
    "Now, it's time to evaluate whether the features just selected is useful to classify. We use [Bernoulli Naive Bayes model](https://scikit-learn.org/stable/modules/naive_bayes.html#bernoulli-naive-bayes) to train training data. "
   ]
  },
  {
   "cell_type": "markdown",
   "metadata": {
    "id": "IffCrLvf8rFq"
   },
   "source": [
    "<font color=\"red\">**[ TODO ]**</font> Please adjust the `selected_features` list and train the model.\n",
    "\n",
    "***Don't*** use other model in this assignment."
   ]
  },
  {
   "cell_type": "code",
   "execution_count": 26,
   "metadata": {},
   "outputs": [],
   "source": [
    "train[\"len_not_in_range\"] = [1 if if_len_not_in_range(s, sd_range_ratio) else 0 for s in train[\"sent\"]]\n",
    "test[\"len_not_in_range\"] = [1 if if_len_not_in_range(s, sd_range_ratio) else 0 for s in test[\"sent\"]]\n",
    "\n",
    "train[\"contains_noneASCII\"] = [1 if if_contains_noneASCII(s) else 0 for s in train[\"sent\"]]\n",
    "test[\"contains_noneASCII\"] = [1 if if_contains_noneASCII(s) else 0 for s in test[\"sent\"]]\n",
    "\n",
    "train[\"many_uppercase\"] = [1 if if_many_uppercase(s) else 0 for s in train[\"sent\"]]\n",
    "test[\"many_uppercase\"] = [1 if if_many_uppercase(s) else 0 for s in test[\"sent\"]]\n",
    "\n",
    "train[\"many_numbers\"] = [1 if if_many_numbers(s) else 0 for s in train[\"sent\"]]\n",
    "test[\"many_numbers\"] = [1 if if_many_numbers(s) else 0 for s in test[\"sent\"]]\n",
    "\n",
    "train[\"more than three punc\"] = [1 if if_more_than_three_punc(s) else 0 for s in train[\"sent\"]]\n",
    "test[\"more than three punc\"] = [1 if if_more_than_three_punc(s) else 0 for s in test[\"sent\"]]\n",
    "\n",
    "train[\"not_have_first_word\"] = [1 if if_not_have_first_word(s, pos) else 0 for s in train[\"sent\"]]\n",
    "test[\"not_have_first_word\"] = [1 if if_not_have_first_word(s, pos) else 0 for s in test[\"sent\"]]\n",
    "\n",
    "train[\"not_have_last_word\"] = [1 if if_not_have_last_word(s, pos_last_words) else 0 for s in train[\"sent\"]]\n",
    "test[\"not_have_last_word\"] = [1 if if_not_have_last_word(s, pos_last_words) else 0 for s in test[\"sent\"]]"
   ]
  },
  {
   "cell_type": "code",
   "execution_count": 27,
   "metadata": {
    "id": "UBazhh0x8rFq"
   },
   "outputs": [],
   "source": [
    "selected_features = [\"more than three punc\",\n",
    "                     \"many_uppercase\",\n",
    "                     \"contains_noneASCII\",\n",
    "                     \"len_not_in_range\",\n",
    "                     \"many_numbers\",\n",
    "                     \"not_have_first_word\",\n",
    "                     \"not_have_last_word\",\n",
    "                    ]"
   ]
  },
  {
   "cell_type": "code",
   "execution_count": 28,
   "metadata": {},
   "outputs": [
    {
     "data": {
      "text/plain": [
       "'\\n# Find best sd_range_ratio\\n\\nsteps = arange(1.6,1.8, step = 0.01)\\n\\nmax_srr = steps[0]\\nmax_ratio = 0\\n\\nfor srr in steps:\\n    \\n    train[\"len_not_in_range\"] = [1 if if_len_not_in_range(s, srr) else 0 for s in train[\"sent\"]]\\n    test[\"len_not_in_range\"] = [1 if if_len_not_in_range(s, srr) else 0 for s in test[\"sent\"]]\\n\\n    y_pred = bnb.fit(train[selected_features], train[\\'label\\']).predict(test[selected_features])\\n    \\n    ratio = (test[\\'label\\'] == y_pred).sum()/len(test)\\n    if(ratio > max_ratio):\\n        max_ratio = ratio\\n        max_srr = srr\\n\\nprint(max_ratio, max_srr)\\n'"
      ]
     },
     "execution_count": 28,
     "metadata": {},
     "output_type": "execute_result"
    }
   ],
   "source": [
    "\"\"\"\n",
    "# Find best sd_range_ratio\n",
    "\n",
    "steps = arange(1.6,1.8, step = 0.01)\n",
    "\n",
    "max_srr = steps[0]\n",
    "max_ratio = 0\n",
    "\n",
    "for srr in steps:\n",
    "    \n",
    "    train[\"len_not_in_range\"] = [1 if if_len_not_in_range(s, srr) else 0 for s in train[\"sent\"]]\n",
    "    test[\"len_not_in_range\"] = [1 if if_len_not_in_range(s, srr) else 0 for s in test[\"sent\"]]\n",
    "\n",
    "    y_pred = bnb.fit(train[selected_features], train['label']).predict(test[selected_features])\n",
    "    \n",
    "    ratio = (test['label'] == y_pred).sum()/len(test)\n",
    "    if(ratio > max_ratio):\n",
    "        max_ratio = ratio\n",
    "        max_srr = srr\n",
    "\n",
    "print(max_ratio, max_srr)\n",
    "\"\"\""
   ]
  },
  {
   "cell_type": "code",
   "execution_count": 29,
   "metadata": {
    "id": "FWeeyHj38rFq"
   },
   "outputs": [],
   "source": [
    "from sklearn.naive_bayes import BernoulliNB\n",
    "bnb = BernoulliNB()\n",
    "\n",
    "y_pred = bnb.fit(train[selected_features], train['label']).predict(test[selected_features])"
   ]
  },
  {
   "cell_type": "markdown",
   "metadata": {
    "id": "43FpNagS8rFr"
   },
   "source": [
    "## Test\n",
    "Test the model and get the accuracy of the prediction on testing data. \n",
    "\n",
    "There're four baselines for this task:\n",
    "```\n",
    "1. simple baseline: 0.65\n",
    "2. medium baseline: 0.72\n",
    "3. strong baseline: 0.8\n",
    "4. boss baseline: 0.85\n",
    "```\n",
    "The more the baseline you pass, the more higher the grade you can get.\n",
    "\n",
    "*hint: If the result isn't ideal, you can print the wrong prediction data and re-observe but only focus on wrong data to extract other features."
   ]
  },
  {
   "cell_type": "code",
   "execution_count": 30,
   "metadata": {
    "id": "FYOHrFtk8rFr",
    "outputId": "39a87798-7645-4a14-a98a-856dedc5c8ef"
   },
   "outputs": [
    {
     "name": "stdout",
     "output_type": "stream",
     "text": [
      "0.8215596330275229\n"
     ]
    }
   ],
   "source": [
    "print((test['label'] == y_pred).sum()/len(test))"
   ]
  },
  {
   "cell_type": "code",
   "execution_count": 31,
   "metadata": {},
   "outputs": [],
   "source": [
    "d = test[test['label'] != y_pred]"
   ]
  },
  {
   "cell_type": "code",
   "execution_count": 32,
   "metadata": {},
   "outputs": [
    {
     "data": {
      "text/html": [
       "<div>\n",
       "<style scoped>\n",
       "    .dataframe tbody tr th:only-of-type {\n",
       "        vertical-align: middle;\n",
       "    }\n",
       "\n",
       "    .dataframe tbody tr th {\n",
       "        vertical-align: top;\n",
       "    }\n",
       "\n",
       "    .dataframe thead th {\n",
       "        text-align: right;\n",
       "    }\n",
       "</style>\n",
       "<table border=\"1\" class=\"dataframe\">\n",
       "  <thead>\n",
       "    <tr style=\"text-align: right;\">\n",
       "      <th></th>\n",
       "      <th>sent</th>\n",
       "      <th>label</th>\n",
       "      <th>len_not_in_range</th>\n",
       "      <th>contains_noneASCII</th>\n",
       "      <th>many_uppercase</th>\n",
       "      <th>many_numbers</th>\n",
       "      <th>more than three punc</th>\n",
       "      <th>not_have_first_word</th>\n",
       "      <th>not_have_last_word</th>\n",
       "    </tr>\n",
       "  </thead>\n",
       "  <tbody>\n",
       "    <tr>\n",
       "      <th>2576</th>\n",
       "      <td>No more cake for me, thanks, I'm full.</td>\n",
       "      <td>positive</td>\n",
       "      <td>0</td>\n",
       "      <td>0</td>\n",
       "      <td>1</td>\n",
       "      <td>0</td>\n",
       "      <td>1</td>\n",
       "      <td>0</td>\n",
       "      <td>0</td>\n",
       "    </tr>\n",
       "    <tr>\n",
       "      <th>13348</th>\n",
       "      <td>Is he qualified to be the UN’s standard-bearer for democracy and freedom?</td>\n",
       "      <td>positive</td>\n",
       "      <td>0</td>\n",
       "      <td>1</td>\n",
       "      <td>1</td>\n",
       "      <td>0</td>\n",
       "      <td>0</td>\n",
       "      <td>0</td>\n",
       "      <td>0</td>\n",
       "    </tr>\n",
       "    <tr>\n",
       "      <th>14623</th>\n",
       "      <td>We had several hours to wait for our train, so we left our bags in a (luggage) locker, and went to look around the town.</td>\n",
       "      <td>positive</td>\n",
       "      <td>1</td>\n",
       "      <td>0</td>\n",
       "      <td>0</td>\n",
       "      <td>0</td>\n",
       "      <td>1</td>\n",
       "      <td>0</td>\n",
       "      <td>0</td>\n",
       "    </tr>\n",
       "    <tr>\n",
       "      <th>13151</th>\n",
       "      <td>He'd have driven straight into me if I hadn't seen him first - the dozy idiot!</td>\n",
       "      <td>positive</td>\n",
       "      <td>0</td>\n",
       "      <td>0</td>\n",
       "      <td>1</td>\n",
       "      <td>0</td>\n",
       "      <td>1</td>\n",
       "      <td>0</td>\n",
       "      <td>0</td>\n",
       "    </tr>\n",
       "    <tr>\n",
       "      <th>0</th>\n",
       "      <td>I've just spotted Mark - he's over there, near the entrance.</td>\n",
       "      <td>positive</td>\n",
       "      <td>0</td>\n",
       "      <td>0</td>\n",
       "      <td>1</td>\n",
       "      <td>0</td>\n",
       "      <td>1</td>\n",
       "      <td>0</td>\n",
       "      <td>0</td>\n",
       "    </tr>\n",
       "    <tr>\n",
       "      <th>6238</th>\n",
       "      <td>Yes, Captain.</td>\n",
       "      <td>positive</td>\n",
       "      <td>1</td>\n",
       "      <td>0</td>\n",
       "      <td>1</td>\n",
       "      <td>0</td>\n",
       "      <td>0</td>\n",
       "      <td>0</td>\n",
       "      <td>0</td>\n",
       "    </tr>\n",
       "    <tr>\n",
       "      <th>3602</th>\n",
       "      <td>Bruce's pet name for Noelle is \"Otter,\" which can be embarrassing when other people hear it.</td>\n",
       "      <td>positive</td>\n",
       "      <td>0</td>\n",
       "      <td>0</td>\n",
       "      <td>1</td>\n",
       "      <td>0</td>\n",
       "      <td>1</td>\n",
       "      <td>0</td>\n",
       "      <td>0</td>\n",
       "    </tr>\n",
       "    <tr>\n",
       "      <th>1064</th>\n",
       "      <td>You don't fool me - I wasn't born yesterday.</td>\n",
       "      <td>positive</td>\n",
       "      <td>0</td>\n",
       "      <td>0</td>\n",
       "      <td>1</td>\n",
       "      <td>0</td>\n",
       "      <td>1</td>\n",
       "      <td>0</td>\n",
       "      <td>0</td>\n",
       "    </tr>\n",
       "    <tr>\n",
       "      <th>5233</th>\n",
       "      <td>The bank offers a 20-year, fixed-rate second mortgage option at an amount up to 4% of the appraised value of the home.</td>\n",
       "      <td>positive</td>\n",
       "      <td>1</td>\n",
       "      <td>0</td>\n",
       "      <td>0</td>\n",
       "      <td>0</td>\n",
       "      <td>1</td>\n",
       "      <td>0</td>\n",
       "      <td>0</td>\n",
       "    </tr>\n",
       "    <tr>\n",
       "      <th>2042</th>\n",
       "      <td>If it's okay by/with you, I'll come over tomorrow instead.</td>\n",
       "      <td>positive</td>\n",
       "      <td>0</td>\n",
       "      <td>0</td>\n",
       "      <td>1</td>\n",
       "      <td>0</td>\n",
       "      <td>1</td>\n",
       "      <td>0</td>\n",
       "      <td>0</td>\n",
       "    </tr>\n",
       "  </tbody>\n",
       "</table>\n",
       "</div>"
      ],
      "text/plain": [
       "                                                                                                                           sent  \\\n",
       "2576                                                                                     No more cake for me, thanks, I'm full.   \n",
       "13348                                                 Is he qualified to be the UN’s standard-bearer for democracy and freedom?   \n",
       "14623  We had several hours to wait for our train, so we left our bags in a (luggage) locker, and went to look around the town.   \n",
       "13151                                            He'd have driven straight into me if I hadn't seen him first - the dozy idiot!   \n",
       "0                                                                  I've just spotted Mark - he's over there, near the entrance.   \n",
       "6238                                                                                                              Yes, Captain.   \n",
       "3602                               Bruce's pet name for Noelle is \"Otter,\" which can be embarrassing when other people hear it.   \n",
       "1064                                                                               You don't fool me - I wasn't born yesterday.   \n",
       "5233     The bank offers a 20-year, fixed-rate second mortgage option at an amount up to 4% of the appraised value of the home.   \n",
       "2042                                                                 If it's okay by/with you, I'll come over tomorrow instead.   \n",
       "\n",
       "          label  len_not_in_range  contains_noneASCII  many_uppercase  \\\n",
       "2576   positive                 0                   0               1   \n",
       "13348  positive                 0                   1               1   \n",
       "14623  positive                 1                   0               0   \n",
       "13151  positive                 0                   0               1   \n",
       "0      positive                 0                   0               1   \n",
       "6238   positive                 1                   0               1   \n",
       "3602   positive                 0                   0               1   \n",
       "1064   positive                 0                   0               1   \n",
       "5233   positive                 1                   0               0   \n",
       "2042   positive                 0                   0               1   \n",
       "\n",
       "       many_numbers  more than three punc  not_have_first_word  \\\n",
       "2576              0                     1                    0   \n",
       "13348             0                     0                    0   \n",
       "14623             0                     1                    0   \n",
       "13151             0                     1                    0   \n",
       "0                 0                     1                    0   \n",
       "6238              0                     0                    0   \n",
       "3602              0                     1                    0   \n",
       "1064              0                     1                    0   \n",
       "5233              0                     1                    0   \n",
       "2042              0                     1                    0   \n",
       "\n",
       "       not_have_last_word  \n",
       "2576                    0  \n",
       "13348                   0  \n",
       "14623                   0  \n",
       "13151                   0  \n",
       "0                       0  \n",
       "6238                    0  \n",
       "3602                    0  \n",
       "1064                    0  \n",
       "5233                    0  \n",
       "2042                    0  "
      ]
     },
     "execution_count": 32,
     "metadata": {},
     "output_type": "execute_result"
    }
   ],
   "source": [
    "d[d['label'] == 'positive'].sample(n=10)"
   ]
  },
  {
   "cell_type": "code",
   "execution_count": 33,
   "metadata": {},
   "outputs": [
    {
     "data": {
      "text/html": [
       "<div>\n",
       "<style scoped>\n",
       "    .dataframe tbody tr th:only-of-type {\n",
       "        vertical-align: middle;\n",
       "    }\n",
       "\n",
       "    .dataframe tbody tr th {\n",
       "        vertical-align: top;\n",
       "    }\n",
       "\n",
       "    .dataframe thead th {\n",
       "        text-align: right;\n",
       "    }\n",
       "</style>\n",
       "<table border=\"1\" class=\"dataframe\">\n",
       "  <thead>\n",
       "    <tr style=\"text-align: right;\">\n",
       "      <th></th>\n",
       "      <th>sent</th>\n",
       "      <th>label</th>\n",
       "      <th>len_not_in_range</th>\n",
       "      <th>contains_noneASCII</th>\n",
       "      <th>many_uppercase</th>\n",
       "      <th>many_numbers</th>\n",
       "      <th>more than three punc</th>\n",
       "      <th>not_have_first_word</th>\n",
       "      <th>not_have_last_word</th>\n",
       "    </tr>\n",
       "  </thead>\n",
       "  <tbody>\n",
       "    <tr>\n",
       "      <th>16574</th>\n",
       "      <td>The word as translated into English.</td>\n",
       "      <td>negative</td>\n",
       "      <td>0</td>\n",
       "      <td>0</td>\n",
       "      <td>1</td>\n",
       "      <td>0</td>\n",
       "      <td>0</td>\n",
       "      <td>0</td>\n",
       "      <td>0</td>\n",
       "    </tr>\n",
       "    <tr>\n",
       "      <th>24727</th>\n",
       "      <td>Several individuals have been seen with a white lining around the mouth and chin.</td>\n",
       "      <td>negative</td>\n",
       "      <td>0</td>\n",
       "      <td>0</td>\n",
       "      <td>0</td>\n",
       "      <td>0</td>\n",
       "      <td>0</td>\n",
       "      <td>0</td>\n",
       "      <td>0</td>\n",
       "    </tr>\n",
       "    <tr>\n",
       "      <th>17447</th>\n",
       "      <td>People take part in a traditional mame-maki ceremony.</td>\n",
       "      <td>negative</td>\n",
       "      <td>0</td>\n",
       "      <td>0</td>\n",
       "      <td>0</td>\n",
       "      <td>0</td>\n",
       "      <td>0</td>\n",
       "      <td>0</td>\n",
       "      <td>0</td>\n",
       "    </tr>\n",
       "    <tr>\n",
       "      <th>27114</th>\n",
       "      <td>Many also operate round the Manchester area.</td>\n",
       "      <td>negative</td>\n",
       "      <td>0</td>\n",
       "      <td>0</td>\n",
       "      <td>1</td>\n",
       "      <td>0</td>\n",
       "      <td>0</td>\n",
       "      <td>0</td>\n",
       "      <td>0</td>\n",
       "    </tr>\n",
       "    <tr>\n",
       "      <th>26907</th>\n",
       "      <td>There is a public nude beach close to New York City called Gunnison in Sandy Hook, New Jersey.</td>\n",
       "      <td>negative</td>\n",
       "      <td>0</td>\n",
       "      <td>0</td>\n",
       "      <td>1</td>\n",
       "      <td>0</td>\n",
       "      <td>0</td>\n",
       "      <td>0</td>\n",
       "      <td>0</td>\n",
       "    </tr>\n",
       "    <tr>\n",
       "      <th>19899</th>\n",
       "      <td>Tests were done.</td>\n",
       "      <td>negative</td>\n",
       "      <td>1</td>\n",
       "      <td>0</td>\n",
       "      <td>0</td>\n",
       "      <td>0</td>\n",
       "      <td>0</td>\n",
       "      <td>0</td>\n",
       "      <td>0</td>\n",
       "    </tr>\n",
       "    <tr>\n",
       "      <th>22874</th>\n",
       "      <td>While this happens, Lois Griffin hits Stewie Griffin and Stewie wants Lois to hit him more.</td>\n",
       "      <td>negative</td>\n",
       "      <td>0</td>\n",
       "      <td>0</td>\n",
       "      <td>1</td>\n",
       "      <td>0</td>\n",
       "      <td>0</td>\n",
       "      <td>0</td>\n",
       "      <td>0</td>\n",
       "    </tr>\n",
       "    <tr>\n",
       "      <th>17427</th>\n",
       "      <td>Jason fell in love with the daughter of the Golden Fleece's owner.</td>\n",
       "      <td>negative</td>\n",
       "      <td>0</td>\n",
       "      <td>0</td>\n",
       "      <td>1</td>\n",
       "      <td>0</td>\n",
       "      <td>0</td>\n",
       "      <td>0</td>\n",
       "      <td>0</td>\n",
       "    </tr>\n",
       "    <tr>\n",
       "      <th>17484</th>\n",
       "      <td>The speed that it must travel to get away is called escape velocity.</td>\n",
       "      <td>negative</td>\n",
       "      <td>0</td>\n",
       "      <td>0</td>\n",
       "      <td>0</td>\n",
       "      <td>0</td>\n",
       "      <td>0</td>\n",
       "      <td>0</td>\n",
       "      <td>1</td>\n",
       "    </tr>\n",
       "    <tr>\n",
       "      <th>16630</th>\n",
       "      <td>Developers have named each after famous biologists.</td>\n",
       "      <td>negative</td>\n",
       "      <td>0</td>\n",
       "      <td>0</td>\n",
       "      <td>0</td>\n",
       "      <td>0</td>\n",
       "      <td>0</td>\n",
       "      <td>0</td>\n",
       "      <td>1</td>\n",
       "    </tr>\n",
       "  </tbody>\n",
       "</table>\n",
       "</div>"
      ],
      "text/plain": [
       "                                                                                                 sent  \\\n",
       "16574                                                            The word as translated into English.   \n",
       "24727               Several individuals have been seen with a white lining around the mouth and chin.   \n",
       "17447                                           People take part in a traditional mame-maki ceremony.   \n",
       "27114                                                    Many also operate round the Manchester area.   \n",
       "26907  There is a public nude beach close to New York City called Gunnison in Sandy Hook, New Jersey.   \n",
       "19899                                                                                Tests were done.   \n",
       "22874     While this happens, Lois Griffin hits Stewie Griffin and Stewie wants Lois to hit him more.   \n",
       "17427                              Jason fell in love with the daughter of the Golden Fleece's owner.   \n",
       "17484                            The speed that it must travel to get away is called escape velocity.   \n",
       "16630                                             Developers have named each after famous biologists.   \n",
       "\n",
       "          label  len_not_in_range  contains_noneASCII  many_uppercase  \\\n",
       "16574  negative                 0                   0               1   \n",
       "24727  negative                 0                   0               0   \n",
       "17447  negative                 0                   0               0   \n",
       "27114  negative                 0                   0               1   \n",
       "26907  negative                 0                   0               1   \n",
       "19899  negative                 1                   0               0   \n",
       "22874  negative                 0                   0               1   \n",
       "17427  negative                 0                   0               1   \n",
       "17484  negative                 0                   0               0   \n",
       "16630  negative                 0                   0               0   \n",
       "\n",
       "       many_numbers  more than three punc  not_have_first_word  \\\n",
       "16574             0                     0                    0   \n",
       "24727             0                     0                    0   \n",
       "17447             0                     0                    0   \n",
       "27114             0                     0                    0   \n",
       "26907             0                     0                    0   \n",
       "19899             0                     0                    0   \n",
       "22874             0                     0                    0   \n",
       "17427             0                     0                    0   \n",
       "17484             0                     0                    0   \n",
       "16630             0                     0                    0   \n",
       "\n",
       "       not_have_last_word  \n",
       "16574                   0  \n",
       "24727                   0  \n",
       "17447                   0  \n",
       "27114                   0  \n",
       "26907                   0  \n",
       "19899                   0  \n",
       "22874                   0  \n",
       "17427                   0  \n",
       "17484                   1  \n",
       "16630                   1  "
      ]
     },
     "execution_count": 33,
     "metadata": {},
     "output_type": "execute_result"
    }
   ],
   "source": [
    "d[d['label'] == 'negative'].sample(n=10)"
   ]
  },
  {
   "cell_type": "markdown",
   "metadata": {
    "id": "pLkF-92v8rFr"
   },
   "source": [
    "## TA's Notes\n",
    "\n",
    "If you complete the Assignment, please use [this link](https://docs.google.com/spreadsheets/d/1QGeYl5dsD9sFO9SYg4DIKk-xr-yGjRDOOLKZqCLDv2E/edit#gid=1031097651) to reserve demo time.  \n",
    "The score is only given after TAs review your implementation, so <u>**make sure you make a appointment with a TA before you miss the deadline**</u> .  <br>After demo, please upload your assignment to eeclass. You just need to hand in this ipynb file and rename it as XXXXXXXXX(Your student ID).ipynb.\n",
    "<br>Note that **late submission will not be allowed**."
   ]
  },
  {
   "cell_type": "code",
   "execution_count": null,
   "metadata": {},
   "outputs": [],
   "source": []
  }
 ],
 "metadata": {
  "colab": {
   "collapsed_sections": [],
   "name": "Week13_example_sentences_classification.ipynb",
   "provenance": []
  },
  "kernelspec": {
   "display_name": "Python 3",
   "language": "python",
   "name": "python3"
  },
  "language_info": {
   "codemirror_mode": {
    "name": "ipython",
    "version": 3
   },
   "file_extension": ".py",
   "mimetype": "text/x-python",
   "name": "python",
   "nbconvert_exporter": "python",
   "pygments_lexer": "ipython3",
   "version": "3.8.8"
  }
 },
 "nbformat": 4,
 "nbformat_minor": 1
}
