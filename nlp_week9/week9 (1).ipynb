{
 "cells": [
  {
   "cell_type": "markdown",
   "id": "lyric-pricing",
   "metadata": {},
   "source": [
    "# Week 09: Word Sense Disambiguation\n",
    "\n",
    "This week, we introduced a hot topic in Natural Language Proccessing: *Word Sense Disambiguation (WSD)* .  \n",
    "Many words in natural languages have ambiguous meanings. For example, the word *[party](https://dictionary.cambridge.org/dictionary/english/party)* can refer to 1) a social gathering (派對), 2) a political organization (政黨), or 3) an entity in law (當事人；⋯⋯方).  \n",
    "As a human, we can distinguish different meanings easily, but can a machine do the same? This is what WSD aims for.  "
   ]
  },
  {
   "cell_type": "markdown",
   "id": "mysterious-injury",
   "metadata": {},
   "source": [
    "## Introduction\n",
    "\n",
    "### tl; dr\n",
    "You have to \n",
    "1. preprocess the data\n",
    "2. (stage 1) generate a small training dataset from the given collocation seed,\n",
    "3. (stage 1) train a weak model on that small dataset,\n",
    "4. (stage 2) use the weak model to generate more labeled data, and\n",
    "5. (stage 2) train your final model\n",
    "6. Evaluate your model on testing data (requirement: accuracy > 0.7)\n",
    "\n",
    "### Concept\n",
    "\n",
    "In [Lesk's assumption](https://en.wikipedia.org/wiki/Lesk_algorithm), each word has only one sense when it appears in the same collocation.  \n",
    "For example, if *party* shows up with the word *court* (法庭), most likely the sense of this *party* is the 3rd one: an entity in law (當事人；⋯⋯方).  \n",
    "However, we are not implementing Lesk's algorithm this week. Instead, we will combine his assumption with [Yarowsky's](https://en.wikipedia.org/wiki/Yarowsky_algorithm) *bootstrap technique* .  \n",
    "\n",
    "You are given some pre-defined collocations, or called *seeds*, of the word *party*, along with which sense each collocation belongs to.  \n",
    "With the given seeds, you can generate a small set of labeled data by rule. Then with this small set, we can train a small model with limited accuracy.  \n",
    "The current classifier might not perform well on the whole dataset, sure, but it's already enough to generate more reliable labeled data. With the newly labeled training data, we can now train another sense-classification model with more robustness, which aims for the real WSD task.  \n",
    "This process, about training on smaller dataset, generating more data, and then improving the model itself, is called *[bootstrapping](https://www.mastersindatascience.org/learning/introduction-to-machine-learning-algorithms/bootstrapping/)* .  \n"
   ]
  },
  {
   "cell_type": "markdown",
   "id": "resident-smart",
   "metadata": {},
   "source": [
    "<a name=\"I.-Data-preparation\"></a>\n",
    "## I. Data preparation\n",
    "\n",
    "First thing first. To make natural language understandable for machines, we have to transform sentences into embeddings.  \n",
    "So here are four things to do:\n",
    "\n",
    "1. load data\n",
    "2. preprocess the sentences\n",
    "3. transform sentences into embeddings\n",
    "4. pad the sentences to the same length\n",
    "\n",
    "To make the task simple and easy to understand, we will only work on a single word *party* .  \n",
    "Three senses of *party* is defined as below with their corresponding `sense id`s. "
   ]
  },
  {
   "cell_type": "code",
   "execution_count": 1,
   "id": "involved-cooper",
   "metadata": {},
   "outputs": [],
   "source": [
    "SENSE = {\n",
    "    1: 'a social event at which a group of people meet to talk, eat, drink, dance, etc.', # 派對\n",
    "    2: 'an organization of people with particular political beliefs', # 政黨\n",
    "    3: 'a single entity which can be identified as one for the purposes of the law' # （法庭）當事人；⋯⋯方\n",
    "}"
   ]
  },
  {
   "cell_type": "markdown",
   "id": "premier-missouri",
   "metadata": {},
   "source": [
    "### 1. Load data\n",
    "\n",
    "The data is a set of sentences containing the word *party*, all extracted from wikipedia. The uniqueness of each sentence is guaranteed. "
   ]
  },
  {
   "cell_type": "code",
   "execution_count": 2,
   "id": "polish-damages",
   "metadata": {},
   "outputs": [],
   "source": [
    "import os\n",
    "import tensorflow as tf\n",
    "import string\n",
    "import random\n",
    "tf.random.set_seed(64)\n",
    "random.seed(64)"
   ]
  },
  {
   "cell_type": "code",
   "execution_count": 3,
   "id": "available-skiing",
   "metadata": {},
   "outputs": [],
   "source": [
    "with open(os.path.join('data', 'party.train.txt'), 'r', encoding=\"utf-8\") as f:\n",
    "    data = f.read().strip().split('\\n')\n",
    "\n",
    "# this dict maps sentence_id to the sentence itself\n",
    "pure_data = { sent_id: text for sent_id, text in [line.split('\\t', 1) \n",
    "                                                 for line in data] }"
   ]
  },
  {
   "cell_type": "markdown",
   "id": "functional-stage",
   "metadata": {},
   "source": [
    "Let's see what the data looks like."
   ]
  },
  {
   "cell_type": "code",
   "execution_count": 4,
   "id": "missing-replacement",
   "metadata": {},
   "outputs": [
    {
     "name": "stdout",
     "output_type": "stream",
     "text": [
      "1001: A naked party, also known as nude party, is a party where the participants are required to be nude.\n",
      "1002: The town center bears the hallmarks of a typical migration-accepting Turkish rural town, with traditional structures coexisting with a collection of concrete apartment blocks providing public housing, as well as amenities such as basic shopping and fast-food restaurants, and essential infrastructure but little in the way of culture except for cinemas and large rooms hired out for wedding parties.\n",
      "1003: Elections Alberta oversees the creation of political parties and riding associations, compiles election statistics on ridings, and collects financial statements from party candidates and riding associations.\n"
     ]
    }
   ],
   "source": [
    "for sent_id, sentence in pure_data.items():\n",
    "    if int(sent_id) > 1003: break\n",
    "        \n",
    "    print(f'{sent_id}: {sentence}')"
   ]
  },
  {
   "cell_type": "code",
   "execution_count": 5,
   "id": "sufficient-atmosphere",
   "metadata": {},
   "outputs": [],
   "source": [
    "# a look up table from sentence to id\n",
    "id_mapper = {v: k for k, v in pure_data.items()}\n",
    "# a table for id to embedding; we will deal with this later\n",
    "processed_data = {}"
   ]
  },
  {
   "cell_type": "markdown",
   "id": "respiratory-homeless",
   "metadata": {},
   "source": [
    "We define 2 samples here to validate the preprocess during our coding."
   ]
  },
  {
   "cell_type": "code",
   "execution_count": 6,
   "id": "portable-scenario",
   "metadata": {},
   "outputs": [
    {
     "name": "stdout",
     "output_type": "stream",
     "text": [
      "1044\n",
      "1482\n"
     ]
    }
   ],
   "source": [
    "samples = [\n",
    "    'Adnan Al-Hakim (died May 26, 1990) was the leader of the Najjadeh Party, an Arab nationalist party in Lebanon, for more than 30 years.',\n",
    "    'A block party or street party is a party in which many members of a single community congregate, either to observe an event of some importance or simply for mutual enjoyment.'\n",
    "]\n",
    "\n",
    "print(id_mapper[samples[0]])\n",
    "print(id_mapper[samples[1]])"
   ]
  },
  {
   "cell_type": "markdown",
   "id": "revolutionary-haven",
   "metadata": {},
   "source": [
    "### 2. Preprocess the sentences \n",
    "\n",
    "<font color=\"red\">[TODO]</font> Define your preprocessing function to transform a sentence into tokens here.  \n",
    "\n",
    "\\-\n",
    "\n",
    "<small>\n",
    "*hint: If you can't get a high accuracy in the final result, you may want to come back and modify your preprocessing here.<br/>\n",
    "*hint: Think about what words are useful and what are useless when distinguishing a sense.\n",
    "</small>"
   ]
  },
  {
   "cell_type": "code",
   "execution_count": 7,
   "id": "arranged-marijuana",
   "metadata": {},
   "outputs": [],
   "source": [
    "def preprocess(text):\n",
    "    \n",
    "    translator = str.maketrans(string.punctuation, ' '*len(string.punctuation))\n",
    "    text = text.translate(translator)\n",
    "    \n",
    "    text = text.split()\n",
    "    return text"
   ]
  },
  {
   "cell_type": "code",
   "execution_count": 8,
   "id": "intense-notion",
   "metadata": {},
   "outputs": [
    {
     "data": {
      "text/plain": [
       "['Adnan', 'Al', 'Hakim', 'died', 'May']"
      ]
     },
     "execution_count": 8,
     "metadata": {},
     "output_type": "execute_result"
    }
   ],
   "source": [
    "sent_tokens = [preprocess(sent) for sent in samples]\n",
    "sent_tokens[0][:5]"
   ]
  },
  {
   "cell_type": "markdown",
   "id": "systematic-panel",
   "metadata": {},
   "source": [
    "### 3. Transform sentences into embeddings\n",
    "\n",
    "For the simplicity, we are still using word2vec here, so you can copy-paste your code from previous week.  \n",
    "This is not required; you don't have to use word2vec if you want to train a embedding model along with the classifier.  \n",
    "\n",
    "<small>\\*Download w2v: [Google Code Archive](https://code.google.com/archive/p/word2vec/#Pretrained-word-and-phrase-vectors)</small>"
   ]
  },
  {
   "cell_type": "code",
   "execution_count": 9,
   "id": "peripheral-above",
   "metadata": {
    "scrolled": true
   },
   "outputs": [],
   "source": [
    "import numpy as np\n",
    "from gensim.models import KeyedVectors"
   ]
  },
  {
   "cell_type": "code",
   "execution_count": 10,
   "id": "f5301701",
   "metadata": {},
   "outputs": [],
   "source": [
    "kv = KeyedVectors.load_word2vec_format(\n",
    "        os.path.join('data', 'GoogleNews-vectors-negative300.bin'), \n",
    "        binary = True\n",
    "      )"
   ]
  },
  {
   "cell_type": "code",
   "execution_count": 11,
   "id": "b690d510",
   "metadata": {},
   "outputs": [],
   "source": [
    "embeddings_index = {}\n",
    "for word, vector in zip(list(kv.index_to_key), kv.vectors):\n",
    "    coefs = np.asarray(vector, dtype='float32')\n",
    "    embeddings_index[word] = coefs"
   ]
  },
  {
   "cell_type": "code",
   "execution_count": 12,
   "id": "mexican-somerset",
   "metadata": {},
   "outputs": [],
   "source": [
    "def to_embedding(tokens):\n",
    "    embeddings = []\n",
    "    for i in range(0, len(tokens)):\n",
    "        try:\n",
    "            embeddings.append(embeddings_index[tokens[i]])\n",
    "        except:\n",
    "            continue\n",
    "    return embeddings"
   ]
  },
  {
   "cell_type": "code",
   "execution_count": 13,
   "id": "oriented-married",
   "metadata": {
    "scrolled": true
   },
   "outputs": [],
   "source": [
    "embeddings = [to_embedding(tokens) for tokens in sent_tokens]"
   ]
  },
  {
   "cell_type": "markdown",
   "id": "simplified-calibration",
   "metadata": {},
   "source": [
    "### 4. Pad the sentences to the same length\n",
    "\n",
    "The input size of model is fixed. However, the sentence lengths are various.  \n",
    "An intuitive solution is to stuff some dummy values into arrays util they share the same size, and this is called *padding*.  \n",
    "\n",
    "<small>*<a href=\"https://www.tensorflow.org/api_docs/python/tf/keras/preprocessing/sequence/pad_sequences\">tf.keras.preprocessing.sequence.pad_sequences</a></small>"
   ]
  },
  {
   "cell_type": "code",
   "execution_count": 14,
   "id": "initial-victoria",
   "metadata": {},
   "outputs": [],
   "source": [
    "# if you prefer numpy\n",
    "import numpy as np\n",
    "# or if you prefer tensorflow\n",
    "from tensorflow.keras.preprocessing.sequence import pad_sequences"
   ]
  },
  {
   "cell_type": "code",
   "execution_count": 15,
   "id": "3878f6e0",
   "metadata": {},
   "outputs": [
    {
     "data": {
      "text/plain": [
       "20"
      ]
     },
     "execution_count": 15,
     "metadata": {},
     "output_type": "execute_result"
    }
   ],
   "source": [
    "len(embeddings[0])"
   ]
  },
  {
   "cell_type": "code",
   "execution_count": 16,
   "id": "inside-still",
   "metadata": {},
   "outputs": [],
   "source": [
    "def add_padding(embeddings, padding_width = None):\n",
    "    emb_padded = pad_sequences(embeddings, maxlen=padding_width, padding='pre', dtype='float32')\n",
    "    return emb_padded"
   ]
  },
  {
   "cell_type": "code",
   "execution_count": 17,
   "id": "spatial-classic",
   "metadata": {},
   "outputs": [],
   "source": [
    "emb_padded = add_padding(embeddings)"
   ]
  },
  {
   "cell_type": "code",
   "execution_count": 18,
   "id": "9b2582be",
   "metadata": {},
   "outputs": [
    {
     "data": {
      "text/plain": [
       "array([[ 0.        ,  0.        ,  0.        , ...,  0.        ,\n",
       "         0.        ,  0.        ],\n",
       "       [ 0.        ,  0.        ,  0.        , ...,  0.        ,\n",
       "         0.        ,  0.        ],\n",
       "       [ 0.        ,  0.        ,  0.        , ...,  0.        ,\n",
       "         0.        ,  0.        ],\n",
       "       ...,\n",
       "       [ 0.06396484, -0.25585938, -0.08447266, ...,  0.02746582,\n",
       "         0.06494141,  0.06201172],\n",
       "       [-0.07666016, -0.10400391, -0.00175476, ..., -0.01965332,\n",
       "        -0.03442383,  0.0007515 ],\n",
       "       [-0.12695312,  0.20898438, -0.10644531, ...,  0.13476562,\n",
       "         0.01879883, -0.1484375 ]], dtype=float32)"
      ]
     },
     "execution_count": 18,
     "metadata": {},
     "output_type": "execute_result"
    }
   ],
   "source": [
    "emb_padded[0]"
   ]
  },
  {
   "cell_type": "code",
   "execution_count": 19,
   "id": "wanted-brazilian",
   "metadata": {},
   "outputs": [
    {
     "name": "stdout",
     "output_type": "stream",
     "text": [
      "20 26\n",
      "(26, 300) (26, 300)\n"
     ]
    }
   ],
   "source": [
    "print(len(embeddings[0]), len(embeddings[1]))\n",
    "print(emb_padded[0].shape, emb_padded[1].shape)"
   ]
  },
  {
   "cell_type": "markdown",
   "id": "brazilian-talent",
   "metadata": {},
   "source": [
    "You should see the embedding of shorter sentence is padded by empty arrays, and they are at the same length now."
   ]
  },
  {
   "cell_type": "code",
   "execution_count": 20,
   "id": "boring-building",
   "metadata": {},
   "outputs": [
    {
     "name": "stdout",
     "output_type": "stream",
     "text": [
      "26\n"
     ]
    }
   ],
   "source": [
    "# record the width for the future use.\n",
    "PADDING_WIDTH = emb_padded[0].shape[0]\n",
    "print(PADDING_WIDTH)"
   ]
  },
  {
   "cell_type": "markdown",
   "id": "official-postage",
   "metadata": {},
   "source": [
    "### 5. all-in-one\n",
    "\n",
    "Define a function to setup the pipeline, and transform all sentences into embeddings!  \n",
    "\n",
    "<small>\\*Your embedding shape might not be the same with ours due to our different preprocessing procedure. </small>"
   ]
  },
  {
   "cell_type": "code",
   "execution_count": 21,
   "id": "greater-royalty",
   "metadata": {},
   "outputs": [],
   "source": [
    "def process_text(sentences, padding = None):\n",
    "    result = [ preprocess(sentence) for sentence in sentences ]\n",
    "    result = [ to_embedding(sentence) for sentence in result ]\n",
    "    result = add_padding(result, padding)\n",
    "    return result"
   ]
  },
  {
   "cell_type": "code",
   "execution_count": 22,
   "id": "ranking-motel",
   "metadata": {},
   "outputs": [],
   "source": [
    "X = process_text(pure_data.values())"
   ]
  },
  {
   "cell_type": "code",
   "execution_count": 23,
   "id": "equivalent-member",
   "metadata": {},
   "outputs": [
    {
     "data": {
      "text/plain": [
       "array([[ 0.        ,  0.        ,  0.        , ...,  0.        ,\n",
       "         0.        ,  0.        ],\n",
       "       [ 0.        ,  0.        ,  0.        , ...,  0.        ,\n",
       "         0.        ,  0.        ],\n",
       "       [ 0.        ,  0.        ,  0.        , ...,  0.        ,\n",
       "         0.        ,  0.        ],\n",
       "       ...,\n",
       "       [-0.12890625, -0.18261719,  0.10351562, ..., -0.07714844,\n",
       "        -0.11572266, -0.02832031],\n",
       "       [-0.22851562, -0.08837891,  0.12792969, ..., -0.21289062,\n",
       "         0.18847656, -0.14550781],\n",
       "       [ 0.21582031, -0.12207031,  0.09765625, ..., -0.06201172,\n",
       "        -0.17089844,  0.02563477]], dtype=float32)"
      ]
     },
     "execution_count": 23,
     "metadata": {},
     "output_type": "execute_result"
    }
   ],
   "source": [
    "X[0] # should be an embedding with padding"
   ]
  },
  {
   "cell_type": "code",
   "execution_count": 24,
   "id": "gross-kelly",
   "metadata": {},
   "outputs": [
    {
     "data": {
      "text/plain": [
       "(637, 89, 300)"
      ]
     },
     "execution_count": 24,
     "metadata": {},
     "output_type": "execute_result"
    }
   ],
   "source": [
    "X.shape # should be (637, *, 300), * depends on your preprocessing"
   ]
  },
  {
   "cell_type": "markdown",
   "id": "cheap-punishment",
   "metadata": {},
   "source": [
    "Let's use a dictionary to store all embeddings with their sentence_id."
   ]
  },
  {
   "cell_type": "code",
   "execution_count": 25,
   "id": "transparent-environment",
   "metadata": {},
   "outputs": [],
   "source": [
    "processed_data = { \n",
    "    sent_id: embedding for sent_id, embedding in zip(pure_data, X) \n",
    "}"
   ]
  },
  {
   "cell_type": "code",
   "execution_count": 26,
   "id": "boxed-gossip",
   "metadata": {},
   "outputs": [
    {
     "name": "stdout",
     "output_type": "stream",
     "text": [
      "A naked party, also known as nude party, is a party where the participants are required to be nude.\n"
     ]
    },
    {
     "data": {
      "text/plain": [
       "array([[ 0.        ,  0.        ,  0.        , ...,  0.        ,\n",
       "         0.        ,  0.        ],\n",
       "       [ 0.        ,  0.        ,  0.        , ...,  0.        ,\n",
       "         0.        ,  0.        ],\n",
       "       [ 0.        ,  0.        ,  0.        , ...,  0.        ,\n",
       "         0.        ,  0.        ],\n",
       "       ...,\n",
       "       [-0.12890625, -0.18261719,  0.10351562, ..., -0.07714844,\n",
       "        -0.11572266, -0.02832031],\n",
       "       [-0.22851562, -0.08837891,  0.12792969, ..., -0.21289062,\n",
       "         0.18847656, -0.14550781],\n",
       "       [ 0.21582031, -0.12207031,  0.09765625, ..., -0.06201172,\n",
       "        -0.17089844,  0.02563477]], dtype=float32)"
      ]
     },
     "execution_count": 26,
     "metadata": {},
     "output_type": "execute_result"
    }
   ],
   "source": [
    "print(pure_data['1001'])\n",
    "processed_data['1001']"
   ]
  },
  {
   "cell_type": "markdown",
   "id": "directed-vinyl",
   "metadata": {},
   "source": [
    "## II. First stage\n",
    "\n",
    "After preprocessing the training data, now we are going to train our first-stage model!  \n",
    "\n",
    "According to the method described at the beginning, we can train a simple model on a smaller dataset, and this dataset can be generated by rule from seeds.  \n",
    "\n",
    "### Steps\n",
    "\n",
    "1. Prepare the training data\n",
    "2. Encode labels\n",
    "3. Split training and testing dataset\n",
    "4. Build classifier\n",
    "5. Train"
   ]
  },
  {
   "cell_type": "markdown",
   "id": "solid-consensus",
   "metadata": {},
   "source": [
    "### 1. Prepare the training data\n",
    "\n",
    "Given the seed collocationss, you can add a sentence into the training data with label if that sentence contains that collocation.  \n",
    "For example, we can say <i>\"A party is a **social** gathering.\"</i> should be the first sense, because it contains the keyword *social*. Hence, your training data will have this sentence with its label `1`.  \n",
    "\n",
    "Don't worry about the false-positive cases for now.  \n",
    "If the seed is generally good enough, the model will learn to ignore those wrong data by itself. (though yeah, you can get better results if you deal with it beforehand)"
   ]
  },
  {
   "cell_type": "code",
   "execution_count": 27,
   "id": "magnetic-humidity",
   "metadata": {},
   "outputs": [],
   "source": [
    "SEEDS = [\n",
    "    ['social', 'events', 'nude', 'gambling', 'fancy'],\n",
    "    ['system', 'coalition', 'opposition', 'Alliance', 'states'],\n",
    "    ['court', 'law', 'jurisdiction', 'federal', 'legal']\n",
    "]"
   ]
  },
  {
   "cell_type": "markdown",
   "id": "sonic-pricing",
   "metadata": {},
   "source": [
    "<font color=\"red\">[TODO]</font> Get the initial training data from the given seeds.  "
   ]
  },
  {
   "cell_type": "code",
   "execution_count": 28,
   "id": "hourly-power",
   "metadata": {},
   "outputs": [],
   "source": [
    "indice, first_X, first_Y = [], [], [] # sentence id of selected samples, selected sentences, detected labels\n",
    "\n",
    "for sent_id, sentence in pure_data.items():\n",
    "    \n",
    "    seeds_count = [0] * len(SEEDS)\n",
    "    \n",
    "    for i in range(len(SEEDS)):\n",
    "        for lb in SEEDS[i]:\n",
    "            seeds_count[i] += sentence.count(lb)\n",
    "    \n",
    "    if not all(c == 0 for c in seeds_count):\n",
    "        indice.append(sent_id)\n",
    "        first_X.append(X[int(sent_id)-1001])\n",
    "        first_Y.append(np.argmax(seeds_count))"
   ]
  },
  {
   "cell_type": "markdown",
   "id": "universal-matthew",
   "metadata": {},
   "source": [
    "Examine training data.  \n",
    "The labels might not be 100% correct, but it should look reasonable.  "
   ]
  },
  {
   "cell_type": "code",
   "execution_count": 29,
   "id": "practical-transportation",
   "metadata": {},
   "outputs": [
    {
     "name": "stdout",
     "output_type": "stream",
     "text": [
      "A naked party, also known as nude party, is a party where the participants are required to be nude.\n",
      "1001:\n",
      " -> 1: a social event at which a group of people meet to talk, eat, drink, dance, etc.\n",
      "\n",
      "From these social conventions derive in turn also the variants worn on related occasions of varying solemnity, such as formal political, diplomatic, and academic events, in addition to certain parties including award ceremonies, balls, fraternal orders, high school proms, etc.\n",
      "1005:\n",
      " -> 1: a social event at which a group of people meet to talk, eat, drink, dance, etc.\n",
      "\n",
      "The Free-minded People's Party () or Radical People's Party was a social liberal party in the German Empire, founded as a result of the split of the German Free-minded Party in 1893.\n",
      "1007:\n",
      " -> 1: a social event at which a group of people meet to talk, eat, drink, dance, etc.\n",
      "\n",
      "Typically, a party has the right to object in court to a line of questioning or at the introduction of a particular piece of evidence.\n",
      "1008:\n",
      " -> 3: a single entity which can be identified as one for the purposes of the law\n",
      "\n",
      "Dizzy bat is commonly played at parties, colleges and universities, bars, and other drinking festivities such as a tailgate party at sporting events and concerts.\n",
      "1009:\n",
      " -> 1: a social event at which a group of people meet to talk, eat, drink, dance, etc.\n",
      "\n"
     ]
    }
   ],
   "source": [
    "for i in range(5):\n",
    "    print(pure_data[indice[i]])\n",
    "    print(f'{indice[i]}:\\n -> {first_Y[i]+1}: {SENSE[first_Y[i]+1]}')\n",
    "    print()"
   ]
  },
  {
   "cell_type": "markdown",
   "id": "fifteen-channel",
   "metadata": {},
   "source": [
    "Transform X and Y into numpy array for future use."
   ]
  },
  {
   "cell_type": "code",
   "execution_count": 30,
   "id": "polar-halloween",
   "metadata": {},
   "outputs": [
    {
     "data": {
      "text/plain": [
       "(229, 89, 300)"
      ]
     },
     "execution_count": 30,
     "metadata": {},
     "output_type": "execute_result"
    }
   ],
   "source": [
    "first_X = np.array(first_X)\n",
    "first_Y = np.array(first_Y)\n",
    "first_X.shape"
   ]
  },
  {
   "cell_type": "markdown",
   "id": "original-modeling",
   "metadata": {},
   "source": [
    "### 2. Encode labels\n",
    "\n",
    "The labels now are all categorical, which are `1`, `2`, and `3` . However, it's hard to teach a machine this kind of answers.  \n",
    "Most of the time, machine learning generates a *numeric probability*, like `0.329`, rather than a categorical result.  \n",
    "That's why we want to encode the label into a floating point between 0 ~ 1, so that the machine can generate the probability of each answer.  \n",
    "\n",
    "Here we suggest you use the one-hot encoding, which is suitable for categorical classification.  \n",
    "So the label `2` will look like\n",
    "```\n",
    " Sense 1, Sense 2, Sense 3\n",
    "[      0,       1,       0]\n",
    "```\n",
    "\n",
    "*<small><a href=\"https://machinelearningmastery.com/why-one-hot-encode-data-in-machine-learning/\">Why One-Hot Encode Data in Machine Learning?</a></small>"
   ]
  },
  {
   "cell_type": "code",
   "execution_count": 31,
   "id": "turkish-noise",
   "metadata": {},
   "outputs": [],
   "source": [
    "# if you prefer tensorflow\n",
    "from tensorflow import one_hot\n",
    "# or if you don't like tensorflow\n",
    "from sklearn.preprocessing import OneHotEncoder"
   ]
  },
  {
   "cell_type": "markdown",
   "id": "universal-ivory",
   "metadata": {},
   "source": [
    "<font color=\"red\">[TODO]</font> one-hot encode `first_Y`\n",
    "\n",
    "<small>\n",
    "*<a href=\"https://www.tensorflow.org/api_docs/python/tf/one_hot\">tf.one_hot</a><br/>\n",
    "*<a href=\"https://scikit-learn.org/stable/modules/generated/sklearn.preprocessing.OneHotEncoder.html\">sklearn.preprocessing.OneHotEncoder</a>\n",
    "</small>"
   ]
  },
  {
   "cell_type": "code",
   "execution_count": 32,
   "id": "caroline-portugal",
   "metadata": {},
   "outputs": [],
   "source": [
    "first_Y_OH = tf.one_hot(first_Y, 3, axis=1, dtype=tf.float32)"
   ]
  },
  {
   "cell_type": "markdown",
   "id": "painted-regulation",
   "metadata": {},
   "source": [
    "### 3. Prepare training and validation set\n",
    "\n",
    "Split the dataset into training set and validation set.  \n",
    "The reason for splitting is because, you may not want the model to see what you'll use to test it when it is still learning.\n",
    "\n",
    "Machine is very smart; sometimes it just *memorizes* the answers, rather than *learns* them. Even that the model has yielded a perfect accuracy in the test, it still might fail miserably when facing the cruel, real world. *(heh)*  \n",
    "That's why we need a validation set. We reserve a partition of data that will never be learnt by the model, and use it to validate whether the model really learns someting.\n",
    "\n",
    "<small>*<a href=\"https://tarangshah.com/blog/2017-12-03/train-validation-and-test-sets/\">Train, Validation and Test Sets</a></small>"
   ]
  },
  {
   "cell_type": "code",
   "execution_count": 33,
   "id": "buried-protection",
   "metadata": {},
   "outputs": [],
   "source": [
    "# if you prefer sklearn\n",
    "from sklearn.model_selection import train_test_split\n",
    "# or if you don't like sklearn. **Remember to shuffle your data before splitting.**\n",
    "import numpy as np"
   ]
  },
  {
   "cell_type": "code",
   "execution_count": 34,
   "id": "bridal-banks",
   "metadata": {},
   "outputs": [],
   "source": [
    "X_train, X_val, Y_train, Y_val = train_test_split(\n",
    "    first_X, first_Y_OH.numpy(),\n",
    "    test_size = 1/3,   # [TODO] How much data you want to used as validation set\n",
    "    shuffle = True,\n",
    "    random_state=64\n",
    ")"
   ]
  },
  {
   "cell_type": "code",
   "execution_count": 35,
   "id": "confidential-merchandise",
   "metadata": {},
   "outputs": [
    {
     "name": "stdout",
     "output_type": "stream",
     "text": [
      "(152, 89, 300) (77, 89, 300) (152, 3) (77, 3)\n"
     ]
    }
   ],
   "source": [
    "print(X_train.shape, X_val.shape, Y_train.shape, Y_val.shape)"
   ]
  },
  {
   "cell_type": "markdown",
   "id": "bronze-qualification",
   "metadata": {},
   "source": [
    "### 4. Build your multi-labeling classifier \n",
    "\n",
    "Now the data is all prepared.  \n",
    "Let's build a model to learn from it!  \n",
    "\n",
    "Note that, different from last week, your output dimension should be the size of all categories, rather than `2` .  \n",
    "\n",
    "\\-\n",
    "\n",
    "<small>\n",
    "*Although tensorflow is used below, you can always change it to any other framework you are familiar with. <br/>\n",
    "*<a href=\"https://www.tensorflow.org/api_docs/python/tf/keras/layers\">tf.keras.layers</a>\n",
    "</small>"
   ]
  },
  {
   "cell_type": "code",
   "execution_count": 36,
   "id": "healthy-strength",
   "metadata": {},
   "outputs": [],
   "source": [
    "from tensorflow.keras.models import Sequential\n",
    "from tensorflow.keras.layers import LSTM, Dense#, and all the other layers you may use"
   ]
  },
  {
   "cell_type": "code",
   "execution_count": 37,
   "id": "alternative-pasta",
   "metadata": {},
   "outputs": [
    {
     "name": "stdout",
     "output_type": "stream",
     "text": [
      "89 300 3\n"
     ]
    }
   ],
   "source": [
    "_, PADDING_WIDTH, EMBEDDING_DIM = X_train.shape\n",
    "OUTPUT_CATEGORY = len(SENSE)\n",
    "\n",
    "print(PADDING_WIDTH, EMBEDDING_DIM, OUTPUT_CATEGORY)"
   ]
  },
  {
   "cell_type": "markdown",
   "id": "universal-captain",
   "metadata": {},
   "source": [
    "<font color=\"red\">[TODO]</font> Build a classifier"
   ]
  },
  {
   "cell_type": "markdown",
   "id": "severe-dressing",
   "metadata": {},
   "source": [
    "Time to choose the optimizer and loss function.  \n",
    "\n",
    "Loss function is an equation evaluating how wrong your model has answered (the lower the better), while optimizer tells the model how to improve itself.  \n",
    "But seriously, we are not asking you to fine-tune these parameters. That is for Machine Learning class, not for NLP class, so if you are not able to pass the baseline, go check your processing procedure first. Something might go wrong there.  \n",
    "\n",
    "\\-\n",
    "\n",
    "<small>\n",
    "*<a href=\"https://www.tensorflow.org/api_docs/python/tf/keras/Model#compile\">tf.keras.model#compile</a> <br/>\n",
    "*<a href=\"https://www.tensorflow.org/api_docs/python/tf/keras/optimizers\">tf.keras.optimizers</a> <br/>\n",
    "*<a href=\"https://www.tensorflow.org/api_docs/python/tf/keras/losses\">tf.keras.losses</a>\n",
    "</small>"
   ]
  },
  {
   "cell_type": "markdown",
   "id": "affected-palace",
   "metadata": {},
   "source": [
    "<font color=\"red\">[TODO]</font> Compile your model"
   ]
  },
  {
   "cell_type": "markdown",
   "id": "overhead-needle",
   "metadata": {},
   "source": [
    "### 5. Train \n",
    "\n",
    "Time to train your model!  \n",
    "\n",
    "You should always prevent the model from overfitting, so take validation accuracy into consideration and choose your epoch number wisely.  \n",
    "\n",
    "<small>*<a href=\"https://www.ibm.com/cloud/learn/overfitting\">What is Overfitting?</a></small>"
   ]
  },
  {
   "cell_type": "markdown",
   "id": "collaborative-wisdom",
   "metadata": {},
   "source": [
    "<font color=\"red\">[TODO]</font> Train and tune your model"
   ]
  },
  {
   "cell_type": "code",
   "execution_count": 38,
   "id": "expensive-anthropology",
   "metadata": {},
   "outputs": [
    {
     "name": "stdout",
     "output_type": "stream",
     "text": [
      "Epoch 1/7\n",
      "76/76 [==============================] - 2s 14ms/step - loss: 1.0300 - accuracy: 0.4539 - val_loss: 0.8897 - val_accuracy: 0.5065\n",
      "Epoch 2/7\n",
      "76/76 [==============================] - 1s 8ms/step - loss: 0.7537 - accuracy: 0.6645 - val_loss: 0.6114 - val_accuracy: 0.7662\n",
      "Epoch 3/7\n",
      "76/76 [==============================] - 1s 8ms/step - loss: 0.4534 - accuracy: 0.8158 - val_loss: 0.4660 - val_accuracy: 0.8442\n",
      "Epoch 4/7\n",
      "76/76 [==============================] - 1s 8ms/step - loss: 0.2516 - accuracy: 0.9211 - val_loss: 0.3107 - val_accuracy: 0.8831\n",
      "Epoch 5/7\n",
      "76/76 [==============================] - 1s 8ms/step - loss: 0.1406 - accuracy: 0.9671 - val_loss: 0.3490 - val_accuracy: 0.8571\n",
      "Epoch 6/7\n",
      "76/76 [==============================] - 1s 8ms/step - loss: 0.0611 - accuracy: 0.9868 - val_loss: 0.3000 - val_accuracy: 0.8701\n",
      "Epoch 7/7\n",
      "76/76 [==============================] - 1s 8ms/step - loss: 0.0427 - accuracy: 0.9868 - val_loss: 0.3484 - val_accuracy: 0.8571\n",
      "Model: \"sequential\"\n",
      "_________________________________________________________________\n",
      " Layer (type)                Output Shape              Param #   \n",
      "=================================================================\n",
      " lstm (LSTM)                 (None, 4)                 4880      \n",
      "                                                                 \n",
      " dense (Dense)               (None, 64)                320       \n",
      "                                                                 \n",
      " dense_1 (Dense)             (None, 3)                 195       \n",
      "                                                                 \n",
      "=================================================================\n",
      "Total params: 5,395\n",
      "Trainable params: 5,395\n",
      "Non-trainable params: 0\n",
      "_________________________________________________________________\n"
     ]
    }
   ],
   "source": [
    "model_1 = Sequential()\n",
    "model_1.add(tf.keras.layers.LSTM(4))\n",
    "model_1.add(tf.keras.layers.Dense(64))\n",
    "model_1.add(tf.keras.layers.Dense(OUTPUT_CATEGORY, activation='sigmoid'))\n",
    "\n",
    "model_1.compile(optimizer='Adam',\n",
    "                loss=tf.keras.losses.CategoricalCrossentropy(from_logits=False),\n",
    "                metrics=['accuracy'])\n",
    "\n",
    "history = model_1.fit(\n",
    "    X_train, Y_train,\n",
    "    validation_data=(X_val, Y_val),\n",
    "    batch_size=2,\n",
    "    epochs=7,\n",
    "    initial_epoch=0    # set this if you're continuing previous training\n",
    ")\n",
    "model_1.summary()\n",
    "\n",
    "testcases = [\n",
    "    # 1\n",
    "    'A block party or street party is a party in which many members of a single community congregate, either to observe an event of some importance or simply for mutual enjoyment.',\n",
    "    'A party is a social gathering.',\n",
    "    # 2\n",
    "    'Ukraine has a multi-party system, with numerous parties in which often not a single party has a chance of gaining power alone, and parties must work with each other to form coalition governments.',\n",
    "    'Serbia has a multi-party system, with numerous parties in which no one party often has a chance of gaining power alone, and parties must work with each other to form coalition governments.',\n",
    "    # 3\n",
    "    'In a civil lawsuit, a nominal party is one named as a party on the record of an action, but having no interest in the action.',\n",
    "]\n",
    "# you must specify the padding width here, since the input size of model should always be the same\n",
    "test_X = process_text(testcases, padding = PADDING_WIDTH)\n",
    "\n",
    "first_predictions = model_1.predict(X_train)"
   ]
  },
  {
   "cell_type": "code",
   "execution_count": 39,
   "id": "cdb74141",
   "metadata": {},
   "outputs": [
    {
     "data": {
      "text/plain": [
       "array([[0.88437986, 0.04761431, 0.7334774 ],\n",
       "       [0.85600764, 0.4375627 , 0.13794604],\n",
       "       [0.06572506, 0.99841297, 0.01352012],\n",
       "       [0.06543782, 0.9984005 , 0.01370868],\n",
       "       [0.51770586, 0.03809276, 0.9744395 ]], dtype=float32)"
      ]
     },
     "execution_count": 39,
     "metadata": {},
     "output_type": "execute_result"
    }
   ],
   "source": [
    "predictions = model_1.predict(test_X)\n",
    "predictions"
   ]
  },
  {
   "cell_type": "markdown",
   "id": "raised-economics",
   "metadata": {},
   "source": [
    "### 6. Examine your model\n",
    "\n",
    "Let's see how good your model does.  "
   ]
  },
  {
   "cell_type": "markdown",
   "id": "silent-bracelet",
   "metadata": {},
   "source": [
    "#### What does the result mean?\n",
    "\n",
    "As you can see, a list of floats are generated, and since we used one-hot encoding when preparing the training data, each number presents the result of corresponding categories.  \n",
    "```\n",
    " Sense 1, Sense 2, Sense 3\n",
    "[   0.89,    0.12,    0.21]\n",
    "```\n",
    "You can consider these values as the probability of each column, or said category. Hence, the true predicted label should be the one with the highest probability, which is Sense 1 for this sample.  \n",
    "\n",
    "Now let's get all the predicted labels from these probabilities.  "
   ]
  },
  {
   "cell_type": "code",
   "execution_count": 40,
   "id": "suspended-sending",
   "metadata": {},
   "outputs": [
    {
     "name": "stdout",
     "output_type": "stream",
     "text": [
      "A block party or street party is a party in which many members of a single community congregate, either to observe an event of some importance or simply for mutual enjoyment.\n",
      "-> Sense 1 (prob=0.88): a social event at which a group of people meet to talk, eat, drink, dance, etc.\n",
      "\n",
      "A party is a social gathering.\n",
      "-> Sense 1 (prob=0.86): a social event at which a group of people meet to talk, eat, drink, dance, etc.\n",
      "\n",
      "Ukraine has a multi-party system, with numerous parties in which often not a single party has a chance of gaining power alone, and parties must work with each other to form coalition governments.\n",
      "-> Sense 2 (prob=1.00): an organization of people with particular political beliefs\n",
      "\n",
      "Serbia has a multi-party system, with numerous parties in which no one party often has a chance of gaining power alone, and parties must work with each other to form coalition governments.\n",
      "-> Sense 2 (prob=1.00): an organization of people with particular political beliefs\n",
      "\n",
      "In a civil lawsuit, a nominal party is one named as a party on the record of an action, but having no interest in the action.\n",
      "-> Sense 3 (prob=0.97): a single entity which can be identified as one for the purposes of the law\n",
      "\n"
     ]
    }
   ],
   "source": [
    "for idx, result in enumerate(predictions):\n",
    "    predict_id = result.argmax() # select the index of the maximum value\n",
    "    sense_id = predict_id + 1    # sense_id starts from 1\n",
    "    print(testcases[idx])\n",
    "    print(f'-> Sense {sense_id} (prob={result[predict_id]:.2f}): {SENSE[sense_id]}')\n",
    "    print()"
   ]
  },
  {
   "cell_type": "markdown",
   "id": "brave-maldives",
   "metadata": {},
   "source": [
    "Again, the label might not be 100% correct, but it should look reasonable somehow.  "
   ]
  },
  {
   "cell_type": "markdown",
   "id": "residential-license",
   "metadata": {},
   "source": [
    "## III. Second stage\n",
    "\n",
    "The previous model might not be enough for real-world use; another model with better ability is needed.  \n",
    "\n",
    "<small>*Most contents of this section are the same as previous one, so you can make use of your code above.</small>"
   ]
  },
  {
   "cell_type": "markdown",
   "id": "vocal-success",
   "metadata": {},
   "source": [
    "### 1. Prepare the training data \n",
    "\n",
    "The model from the previous section is weak, yet it still has learned some valuable knowledge.  \n",
    "Let's ask that model to label more training data for us!"
   ]
  },
  {
   "cell_type": "code",
   "execution_count": 41,
   "id": "blank-child",
   "metadata": {},
   "outputs": [],
   "source": [
    "# Get the probability on the whold dataset\n",
    "predictions = model_1.predict(np.array(list(processed_data.values())))"
   ]
  },
  {
   "cell_type": "markdown",
   "id": "acoustic-committee",
   "metadata": {},
   "source": [
    "\n",
    "<font color=\"red\">[TODO]</font> Get the labels of all data, and reserve only those labels with high probabilities."
   ]
  },
  {
   "cell_type": "code",
   "execution_count": 42,
   "id": "powerful-debut",
   "metadata": {},
   "outputs": [
    {
     "name": "stdout",
     "output_type": "stream",
     "text": [
      "(310, 89, 300)\n",
      "(310,)\n"
     ]
    }
   ],
   "source": [
    "THRESHOLD = 0.94  # you may want to change this :)\n",
    "indice, second_X, second_Y = [], [], [] # sentence id of selected samples, selected sentences, detected labels\n",
    "\n",
    "for sent_id, result in zip(processed_data, predictions):\n",
    "    result_max = np.max(result)\n",
    "    \n",
    "    if result_max > THRESHOLD:\n",
    "        indice.append(sent_id)\n",
    "        second_X.append(X[int(sent_id)-1001])\n",
    "        second_Y.append(np.argmax(result))\n",
    "\n",
    "second_X = np.array(second_X)\n",
    "second_Y = np.array(second_Y)\n",
    "print(second_X.shape)\n",
    "print(second_Y.shape)"
   ]
  },
  {
   "cell_type": "code",
   "execution_count": 43,
   "id": "5f472732",
   "metadata": {},
   "outputs": [
    {
     "data": {
      "text/plain": [
       "array([0, 0, 1, 0, 0, 0, 2, 0, 1, 1, 0, 1, 1, 0, 1, 1, 2, 1, 1, 1, 2, 2,\n",
       "       1, 1, 1, 0, 1, 1, 1, 1, 2, 0, 1, 1, 1, 2, 0, 1, 0, 1, 2, 1, 2, 1,\n",
       "       1, 1, 2, 2, 1, 2, 1, 2, 2, 1, 2, 0, 0, 1, 1, 1, 0, 1, 1, 1, 2, 1,\n",
       "       2, 2, 0, 0, 2, 1, 1, 0, 1, 1, 2, 1, 1, 0, 1, 0, 2, 2, 1, 1, 1, 2,\n",
       "       1, 0, 1, 1, 2, 0, 1, 2, 0, 1, 0, 2, 1, 1, 1, 1, 0, 0, 0, 2, 0, 2,\n",
       "       1, 1, 2, 1, 0, 2, 0, 1, 2, 1, 0, 2, 1, 1, 1, 1, 0, 1, 1, 2, 2, 2,\n",
       "       0, 2, 2, 2, 1, 2, 2, 1, 2, 0, 1, 1, 1, 2, 1, 0, 1, 1, 0, 0, 2, 1,\n",
       "       0, 0, 2, 1, 0, 1, 0, 2, 1, 1, 0, 0, 1, 2, 0, 0, 2, 1, 2, 1, 0, 1,\n",
       "       2, 1, 1, 1, 1, 0, 0, 2, 2, 2, 1, 1, 2, 2, 1, 1, 0, 0, 1, 1, 1, 0,\n",
       "       2, 0, 1, 0, 2, 2, 2, 0, 0, 1, 1, 0, 1, 2, 0, 2, 2, 2, 1, 0, 1, 2,\n",
       "       0, 2, 1, 1, 1, 1, 2, 1, 0, 0, 0, 2, 1, 2, 2, 2, 0, 0, 0, 2, 1, 1,\n",
       "       1, 1, 0, 0, 0, 1, 2, 1, 1, 0, 1, 2, 1, 1, 0, 0, 0, 2, 1, 0, 2, 2,\n",
       "       1, 0, 1, 2, 0, 2, 0, 1, 1, 0, 1, 2, 1, 1, 1, 2, 1, 0, 2, 1, 1, 1,\n",
       "       1, 1, 1, 2, 1, 0, 1, 0, 1, 0, 1, 2, 1, 1, 0, 1, 1, 1, 0, 2, 2, 0,\n",
       "       1, 2])"
      ]
     },
     "execution_count": 43,
     "metadata": {},
     "output_type": "execute_result"
    }
   ],
   "source": [
    "second_Y"
   ]
  },
  {
   "cell_type": "markdown",
   "id": "artificial-python",
   "metadata": {},
   "source": [
    "Observe the selected data size and the quality of labels.  \n",
    "You might want to go back and modify your preprocessing, first model, or the threshold until you get a better training data."
   ]
  },
  {
   "cell_type": "code",
   "execution_count": 44,
   "id": "02bb78d4",
   "metadata": {},
   "outputs": [
    {
     "name": "stdout",
     "output_type": "stream",
     "text": [
      "A naked party, also known as nude party, is a party where the participants are required to be nude.\n",
      " -> 1: a social event at which a group of people meet to talk, eat, drink, dance, etc.\n",
      "\n",
      "The town center bears the hallmarks of a typical migration-accepting Turkish rural town, with traditional structures coexisting with a collection of concrete apartment blocks providing public housing, as well as amenities such as basic shopping and fast-food restaurants, and essential infrastructure but little in the way of culture except for cinemas and large rooms hired out for wedding parties.\n",
      " -> 1: a social event at which a group of people meet to talk, eat, drink, dance, etc.\n",
      "\n",
      "Elections Alberta oversees the creation of political parties and riding associations, compiles election statistics on ridings, and collects financial statements from party candidates and riding associations.\n",
      " -> 2: an organization of people with particular political beliefs\n",
      "\n",
      "From these social conventions derive in turn also the variants worn on related occasions of varying solemnity, such as formal political, diplomatic, and academic events, in addition to certain parties including award ceremonies, balls, fraternal orders, high school proms, etc.\n",
      " -> 1: a social event at which a group of people meet to talk, eat, drink, dance, etc.\n",
      "\n",
      "(, \"Al-Harakat al-Wataniyya al-Lubnaniyya\") or Mouvement National Libanais (MNL) in French, was a front of leftist, pan-Arabist and Syrian nationalist parties and organizations active during the early years of the Lebanese Civil War, which supported the Palestine Liberation Organization (PLO).\n",
      " -> 1: a social event at which a group of people meet to talk, eat, drink, dance, etc.\n",
      "\n"
     ]
    }
   ],
   "source": [
    "for i in range(5):\n",
    "    print(pure_data[indice[i]])\n",
    "    print(f' -> {second_Y[i]+1}: {SENSE[second_Y[i]+1]}')\n",
    "    print()"
   ]
  },
  {
   "cell_type": "markdown",
   "id": "elect-california",
   "metadata": {},
   "source": [
    "### 2. Encode labels "
   ]
  },
  {
   "cell_type": "markdown",
   "id": "bright-constant",
   "metadata": {},
   "source": [
    "<font color=\"red\">[TODO]</font> one-hot encode secone_Y"
   ]
  },
  {
   "cell_type": "code",
   "execution_count": 45,
   "id": "champion-calculation",
   "metadata": {},
   "outputs": [
    {
     "name": "stdout",
     "output_type": "stream",
     "text": [
      "[[1. 0. 0.]\n",
      " [1. 0. 0.]\n",
      " [0. 1. 0.]\n",
      " [1. 0. 0.]\n",
      " [1. 0. 0.]\n",
      " [1. 0. 0.]\n",
      " [0. 0. 1.]\n",
      " [1. 0. 0.]\n",
      " [0. 1. 0.]\n",
      " [0. 1. 0.]]\n",
      "(310, 3)\n"
     ]
    }
   ],
   "source": [
    "second_Y_OH = np.array(tf.one_hot(second_Y, depth=3))\n",
    "print(second_Y_OH[:10])\n",
    "print(second_Y_OH.shape)"
   ]
  },
  {
   "cell_type": "markdown",
   "id": "loose-visiting",
   "metadata": {},
   "source": [
    "### 3. Prepare training and validating dataset"
   ]
  },
  {
   "cell_type": "code",
   "execution_count": 46,
   "id": "rocky-friendly",
   "metadata": {},
   "outputs": [
    {
     "name": "stdout",
     "output_type": "stream",
     "text": [
      "(206, 89, 300)\n",
      "(206, 3)\n"
     ]
    }
   ],
   "source": [
    "X_train, X_val, Y_train, Y_val = train_test_split(\n",
    "    second_X, second_Y_OH,\n",
    "    test_size = 1/3,   # [TODO] How much data you want to used as validation set\n",
    "    shuffle = True,\n",
    "    random_state=64\n",
    ")\n",
    "print(X_train.shape)\n",
    "print(Y_train.shape)\n",
    "#print(Y_train)"
   ]
  },
  {
   "cell_type": "markdown",
   "id": "annual-enclosure",
   "metadata": {},
   "source": [
    "### 4. Build model"
   ]
  },
  {
   "cell_type": "code",
   "execution_count": 47,
   "id": "synthetic-wagon",
   "metadata": {},
   "outputs": [
    {
     "name": "stdout",
     "output_type": "stream",
     "text": [
      "89 300 3\n"
     ]
    }
   ],
   "source": [
    "# the number comes from previous setting\n",
    "print(PADDING_WIDTH, EMBEDDING_DIM, OUTPUT_CATEGORY)"
   ]
  },
  {
   "cell_type": "markdown",
   "id": "alone-canadian",
   "metadata": {},
   "source": [
    "<font color=\"red\">[TODO]</font> Build your second model\n",
    "\n",
    "<small>*This model can be different from the previous one.</small>"
   ]
  },
  {
   "cell_type": "code",
   "execution_count": 48,
   "id": "connected-placement",
   "metadata": {},
   "outputs": [
    {
     "name": "stdout",
     "output_type": "stream",
     "text": [
      "Epoch 1/6\n",
      "103/103 [==============================] - 2s 11ms/step - loss: 0.9358 - accuracy: 0.6068 - val_loss: 0.6993 - val_accuracy: 0.8365\n",
      "Epoch 2/6\n",
      "103/103 [==============================] - 1s 9ms/step - loss: 0.4010 - accuracy: 0.8883 - val_loss: 0.3477 - val_accuracy: 0.8846\n",
      "Epoch 3/6\n",
      "103/103 [==============================] - 1s 8ms/step - loss: 0.1547 - accuracy: 0.9612 - val_loss: 0.1790 - val_accuracy: 0.9615\n",
      "Epoch 4/6\n",
      "103/103 [==============================] - 1s 8ms/step - loss: 0.0587 - accuracy: 0.9903 - val_loss: 0.1128 - val_accuracy: 0.9808\n",
      "Epoch 5/6\n",
      "103/103 [==============================] - 1s 8ms/step - loss: 0.0175 - accuracy: 1.0000 - val_loss: 0.1035 - val_accuracy: 0.9615\n",
      "Epoch 6/6\n",
      "103/103 [==============================] - 1s 8ms/step - loss: 0.0105 - accuracy: 1.0000 - val_loss: 0.1140 - val_accuracy: 0.9712\n",
      "Model: \"sequential_1\"\n",
      "_________________________________________________________________\n",
      " Layer (type)                Output Shape              Param #   \n",
      "=================================================================\n",
      " lstm_1 (LSTM)               (2, 4)                    4880      \n",
      "                                                                 \n",
      " dense_2 (Dense)             (2, 64)                   320       \n",
      "                                                                 \n",
      " dense_3 (Dense)             (2, 3)                    195       \n",
      "                                                                 \n",
      "=================================================================\n",
      "Total params: 5,395\n",
      "Trainable params: 5,395\n",
      "Non-trainable params: 0\n",
      "_________________________________________________________________\n",
      "None\n"
     ]
    }
   ],
   "source": [
    "model_2 = Sequential()\n",
    "model_2.add(tf.keras.layers.LSTM(4))\n",
    "model_2.add(tf.keras.layers.Dense(64))\n",
    "model_2.add(tf.keras.layers.Dense(OUTPUT_CATEGORY, activation='sigmoid'))\n",
    "\n",
    "model_2.compile(optimizer='Adam',\n",
    "                loss=tf.keras.losses.CategoricalCrossentropy(from_logits=False),\n",
    "                metrics=['accuracy'])\n",
    "\n",
    "history = model_2.fit(\n",
    "    X_train, Y_train,\n",
    "    validation_data=(X_val, Y_val),\n",
    "    batch_size=2,\n",
    "    epochs=6,\n",
    "    initial_epoch=0    # set this if you're continuing previous training\n",
    ")\n",
    "print(model_2.summary())"
   ]
  },
  {
   "cell_type": "markdown",
   "id": "southeast-bailey",
   "metadata": {},
   "source": [
    "### 6. Examine the result"
   ]
  },
  {
   "cell_type": "code",
   "execution_count": 49,
   "id": "atlantic-spine",
   "metadata": {},
   "outputs": [],
   "source": [
    "testcases = [\n",
    "    # 1\n",
    "    'Green Beer Day (GBD) is a day-long party, where celebrants drink beer dyed green with artificial coloring or natural processes.',\n",
    "    'When the siblings grew up, they held parties and introduced the tradition to friends while in college, and the tradition began to spread.',\n",
    "    # 2\n",
    "    'Politicians from the two main parties tend to win elections when not confronted by strong challengers from their own party (in which cases their traditional opponents tend to win).',\n",
    "    'After the general election on 22 March 1992, five parties (Rassadorn, Justice Unity, Social Action, Thai Citizen, Chart Thai) designated Suchinda as the prime minister.',\n",
    "    # 3\n",
    "    'Typically, a party has the right to object in court to a line of questioning or at the introduction of a particular piece of evidence.',\n",
    "    'In the practice of law, judicial estoppel (also known as estoppel by inconsistent positions) is an estoppel that precludes a party from taking a position in a case that is contrary to a position it has taken in earlier legal proceedings.'\n",
    "]"
   ]
  },
  {
   "cell_type": "code",
   "execution_count": 50,
   "id": "taken-printer",
   "metadata": {},
   "outputs": [],
   "source": [
    "# you must specify the padding width! \n",
    "test_X = process_text(testcases, padding = PADDING_WIDTH)"
   ]
  },
  {
   "cell_type": "code",
   "execution_count": 51,
   "id": "entitled-brief",
   "metadata": {},
   "outputs": [
    {
     "name": "stdout",
     "output_type": "stream",
     "text": [
      "[[0.9785087  0.20297709 0.30294994]\n",
      " [0.9756152  0.15775183 0.44078118]\n",
      " [0.21603397 0.9834987  0.02871147]\n",
      " [0.23453566 0.9581616  0.07793656]\n",
      " [0.03432712 0.1104216  0.9839853 ]\n",
      " [0.03081924 0.0567677  0.99296415]]\n"
     ]
    }
   ],
   "source": [
    "predictions = model_2.predict(test_X)\n",
    "print(predictions)"
   ]
  },
  {
   "cell_type": "code",
   "execution_count": 52,
   "id": "reserved-small",
   "metadata": {},
   "outputs": [
    {
     "name": "stdout",
     "output_type": "stream",
     "text": [
      "Green Beer Day (GBD) is a day-long party, where celebrants drink beer dyed green with artificial coloring or natural processes.\n",
      "-> Sense 1 (prob=0.98): a social event at which a group of people meet to talk, eat, drink, dance, etc.\n",
      "\n",
      "When the siblings grew up, they held parties and introduced the tradition to friends while in college, and the tradition began to spread.\n",
      "-> Sense 1 (prob=0.98): a social event at which a group of people meet to talk, eat, drink, dance, etc.\n",
      "\n",
      "Politicians from the two main parties tend to win elections when not confronted by strong challengers from their own party (in which cases their traditional opponents tend to win).\n",
      "-> Sense 2 (prob=0.98): an organization of people with particular political beliefs\n",
      "\n",
      "After the general election on 22 March 1992, five parties (Rassadorn, Justice Unity, Social Action, Thai Citizen, Chart Thai) designated Suchinda as the prime minister.\n",
      "-> Sense 2 (prob=0.96): an organization of people with particular political beliefs\n",
      "\n",
      "Typically, a party has the right to object in court to a line of questioning or at the introduction of a particular piece of evidence.\n",
      "-> Sense 3 (prob=0.98): a single entity which can be identified as one for the purposes of the law\n",
      "\n",
      "In the practice of law, judicial estoppel (also known as estoppel by inconsistent positions) is an estoppel that precludes a party from taking a position in a case that is contrary to a position it has taken in earlier legal proceedings.\n",
      "-> Sense 3 (prob=0.99): a single entity which can be identified as one for the purposes of the law\n",
      "\n"
     ]
    }
   ],
   "source": [
    "for idx, result in enumerate(predictions):\n",
    "    predict_id = result.argmax()\n",
    "    sense_id = predict_id + 1    # sense_id starts from 1\n",
    "    print(testcases[idx])\n",
    "    print(f'-> Sense {sense_id} (prob={result[predict_id]:.2f}): {SENSE[sense_id]}')\n",
    "    print()"
   ]
  },
  {
   "cell_type": "markdown",
   "id": "gothic-march",
   "metadata": {},
   "source": [
    "Yet again, the label might not be 100% correct, but it still should look reasonable."
   ]
  },
  {
   "cell_type": "markdown",
   "id": "armed-ottawa",
   "metadata": {},
   "source": [
    "## IV. Evaluation\n",
    "\n",
    "We have our model built! It's time to see how good it is on the testing dataset.  \n",
    "Get the predictions from the final model and examine the results.  "
   ]
  },
  {
   "cell_type": "code",
   "execution_count": 53,
   "id": "exact-anthony",
   "metadata": {},
   "outputs": [],
   "source": [
    "with open(os.path.join('data', 'party.test.txt'), 'r') as f:\n",
    "    data = f.read().strip().split('\\n')\n",
    "\n",
    "# this dict maps sentence_id to the sentence itself\n",
    "test_data = { sent_id: text for sent_id, text in [line.split('\\t', 1) \n",
    "                                                 for line in data] }"
   ]
  },
  {
   "cell_type": "code",
   "execution_count": 54,
   "id": "brief-credits",
   "metadata": {},
   "outputs": [
    {
     "name": "stdout",
     "output_type": "stream",
     "text": [
      "1638: Patent ambiguity is that ambiguity which is apparent on the face of an instrument to any one perusing it, even if unacquainted with the circumstances of the parties.\n",
      "1639: Smith played at parties, juke joints, and fish fries.\n",
      "1640: Turkey has a multi-party system, with two or three strong parties and often a fourth party that is electorally successful.\n",
      "1641: The Christian Liberation Movement ( or simply MCL) is a Cuban dissident party advocating political change in Cuba.\n"
     ]
    }
   ],
   "source": [
    "for idx, (sent_id, sentence) in enumerate(test_data.items()):\n",
    "    if idx > 3: break\n",
    "        \n",
    "    print(f'{sent_id}: {sentence}')"
   ]
  },
  {
   "cell_type": "markdown",
   "id": "associate-gambling",
   "metadata": {},
   "source": [
    "<font color=\"red\">[TODO]</font> Get the labels of testing data.  \n",
    "\n",
    "Try to reserve the sentence id, because you will need it while requesting your accuracy.  \n",
    "Recommended format of `final_predictions` : \n",
    "```\n",
    "{ sent_id: sense_id }\n",
    "```"
   ]
  },
  {
   "cell_type": "code",
   "execution_count": 55,
   "id": "extra-acquisition",
   "metadata": {
    "scrolled": true
   },
   "outputs": [
    {
     "name": "stdout",
     "output_type": "stream",
     "text": [
      "{'1638': 3, '1639': 1, '1640': 2, '1641': 1, '1642': 1, '1643': 2, '1644': 1, '1645': 3, '1646': 1, '1647': 2, '1648': 2, '1649': 3, '1650': 1, '1651': 2, '1652': 1, '1653': 2, '1654': 2, '1655': 2, '1656': 3, '1657': 2, '1658': 2, '1659': 2, '1660': 2, '1661': 1, '1662': 2, '1663': 2, '1664': 2, '1665': 2, '1666': 2, '1667': 2, '1668': 2, '1669': 2, '1670': 1, '1671': 2, '1672': 1, '1673': 2, '1674': 3, '1675': 3, '1676': 3, '1677': 2, '1678': 1, '1679': 1, '1680': 1, '1681': 2, '1682': 3, '1683': 1, '1684': 3, '1685': 2, '1686': 1, '1687': 2, '1688': 1, '1689': 3, '1690': 2, '1691': 2, '1692': 1, '1693': 2, '1694': 2, '1695': 3, '1696': 1, '1697': 1, '1698': 2, '1699': 3, '1700': 2, '1701': 1, '1702': 1, '1703': 1, '1704': 2, '1705': 2, '1706': 3, '1707': 2}\n"
     ]
    }
   ],
   "source": [
    "final_predictions = {}\n",
    "\n",
    "t_X = process_text(test_data.values())\n",
    "\n",
    "t_X.shape\n",
    "second_predictions = model_2.predict(t_X) \n",
    "\n",
    "for sent_id in test_data:\n",
    "    final_predictions[(sent_id)] = int(np.argmax(second_predictions[int(sent_id)-1638])+1)\n",
    "print(final_predictions)"
   ]
  },
  {
   "cell_type": "code",
   "execution_count": 56,
   "id": "painful-creation",
   "metadata": {},
   "outputs": [
    {
     "name": "stdout",
     "output_type": "stream",
     "text": [
      "Patent ambiguity is that ambiguity which is apparent on the face of an instrument to any one perusing it, even if unacquainted with the circumstances of the parties.\n",
      "-> Sense 3: a single entity which can be identified as one for the purposes of the law\n",
      "\n",
      "Smith played at parties, juke joints, and fish fries.\n",
      "-> Sense 1: a social event at which a group of people meet to talk, eat, drink, dance, etc.\n",
      "\n",
      "Turkey has a multi-party system, with two or three strong parties and often a fourth party that is electorally successful.\n",
      "-> Sense 2: an organization of people with particular political beliefs\n",
      "\n",
      "The Christian Liberation Movement ( or simply MCL) is a Cuban dissident party advocating political change in Cuba.\n",
      "-> Sense 1: a social event at which a group of people meet to talk, eat, drink, dance, etc.\n",
      "\n",
      "Greens Party () was a green liberal party in Turkey.\n",
      "-> Sense 1: a social event at which a group of people meet to talk, eat, drink, dance, etc.\n",
      "\n",
      "Under the Constitution of North Korea, all citizens 17 and older, regardless of party affiliation, political views, or religion, are eligible to be elected to the legislature and vote in elections.\n",
      "-> Sense 2: an organization of people with particular political beliefs\n",
      "\n"
     ]
    }
   ],
   "source": [
    "for idx, (sent_id, pred) in enumerate(final_predictions.items()):\n",
    "    if idx > 5: break\n",
    "        \n",
    "    print(test_data[str(sent_id)])\n",
    "    print(f'-> Sense {int(pred)}: {SENSE[int(pred)]}')\n",
    "    print()"
   ]
  },
  {
   "cell_type": "code",
   "execution_count": 57,
   "id": "1d14d2f4",
   "metadata": {},
   "outputs": [],
   "source": [
    "checkpoint_path = \"model.ckpt\"\n",
    "checkpoint_dir = os.path.dirname(checkpoint_path)\n",
    "\n",
    "batch_size = 32\n",
    "\n",
    "cp_callback = tf.keras.callbacks.ModelCheckpoint(\n",
    "    filepath=checkpoint_path, \n",
    "    verbose=1,\n",
    "    save_weights_only=True,\n",
    "    save_freq=1)\n",
    "\n",
    "#model_2.save_weights(checkpoint_path.format(epoch=0))"
   ]
  },
  {
   "cell_type": "markdown",
   "id": "complicated-physics",
   "metadata": {},
   "source": [
    "### Get your accuracy\n",
    "\n",
    "Send your predictions in json format to our server, and we will calculate the accuracy for you.  \n",
    "The format should be \n",
    "```\n",
    "{ sentence_id: sense_id }\n",
    "```\n",
    "Example,\n",
    "```\n",
    "{\n",
    "    1001: 1,\n",
    "    1002: 1,\n",
    "    ...\n",
    "}\n",
    "```"
   ]
  },
  {
   "cell_type": "code",
   "execution_count": 58,
   "id": "59029f55",
   "metadata": {},
   "outputs": [
    {
     "data": {
      "text/plain": [
       "<tensorflow.python.training.tracking.util.CheckpointLoadStatus at 0x7f3e704115e0>"
      ]
     },
     "execution_count": 58,
     "metadata": {},
     "output_type": "execute_result"
    }
   ],
   "source": [
    "latest = tf.train.latest_checkpoint(checkpoint_dir)\n",
    "\n",
    "model_3 = Sequential()\n",
    "model_3.add(tf.keras.layers.LSTM(4))\n",
    "model_3.add(tf.keras.layers.Dense(64))\n",
    "model_3.add(tf.keras.layers.Dense(OUTPUT_CATEGORY, activation='sigmoid'))\n",
    "\n",
    "model_3.load_weights(latest)"
   ]
  },
  {
   "cell_type": "code",
   "execution_count": 59,
   "id": "2de61202",
   "metadata": {},
   "outputs": [],
   "source": [
    "#second_predictions = model_3.predict(t_X) \n",
    "\n",
    "#for sent_id in test_data:\n",
    "#    final_predictions[(sent_id)] = int(np.argmax(second_predictions[int(sent_id)-1638])+1)"
   ]
  },
  {
   "cell_type": "code",
   "execution_count": 60,
   "id": "sustainable-medicaid",
   "metadata": {},
   "outputs": [
    {
     "name": "stdout",
     "output_type": "stream",
     "text": [
      "{\"1638\": 3, \"1639\": 1, \"1640\": 2, \"1641\": 1, \"1642\": 1, \"1643\": 2, \"1644\": 1, \"1645\": 3, \"1646\": 1, \"1647\": 2, \"1648\": 2, \"1649\": 3, \"1650\": 1, \"1651\": 2, \"1652\": 1, \"1653\": 2, \"1654\": 2, \"1655\": 2, \"1656\": 3, \"1657\": 2, \"1658\": 2, \"1659\": 2, \"1660\": 2, \"1661\": 1, \"1662\": 2, \"1663\": 2, \"1664\": 2, \"1665\": 2, \"1666\": 2, \"1667\": 2, \"1668\": 2, \"1669\": 2, \"1670\": 1, \"1671\": 2, \"1672\": 1, \"1673\": 2, \"1674\": 3, \"1675\": 3, \"1676\": 3, \"1677\": 2, \"1678\": 1, \"1679\": 1, \"1680\": 1, \"1681\": 2, \"1682\": 3, \"1683\": 1, \"1684\": 3, \"1685\": 2, \"1686\": 1, \"1687\": 2, \"1688\": 1, \"1689\": 3, \"1690\": 2, \"1691\": 2, \"1692\": 1, \"1693\": 2, \"1694\": 2, \"1695\": 3, \"1696\": 1, \"1697\": 1, \"1698\": 2, \"1699\": 3, \"1700\": 2, \"1701\": 1, \"1702\": 1, \"1703\": 1, \"1704\": 2, \"1705\": 2, \"1706\": 3, \"1707\": 2}\n"
     ]
    }
   ],
   "source": [
    "import json\n",
    "import requests\n",
    "data = json.dumps(final_predictions)\n",
    "print(data)"
   ]
  },
  {
   "cell_type": "code",
   "execution_count": 61,
   "id": "f5775f22",
   "metadata": {},
   "outputs": [],
   "source": [
    "ret = requests.post('http://jedi.nlplab.cc:4500/check', \n",
    "                    json = { 'data': data }\n",
    "                   )"
   ]
  },
  {
   "cell_type": "code",
   "execution_count": 62,
   "id": "impossible-viking",
   "metadata": {},
   "outputs": [
    {
     "name": "stdout",
     "output_type": "stream",
     "text": [
      "{'accuracy': 0.8, 'comment': ['Well done!']}\n"
     ]
    }
   ],
   "source": [
    "if not ret.ok:\n",
    "    print('Something wrong :o')\n",
    "print(ret.json())"
   ]
  },
  {
   "cell_type": "markdown",
   "id": "narrative-acrobat",
   "metadata": {},
   "source": [
    "**REQUIREMENT**  \n",
    "**Your accuracy should be <u>higher than 0.70</u> to get the full points.**\n",
    "\n",
    "But do note that your assignment is mostly scored on your implementation, not just on the accuracy.  \n",
    "So even if you brute-forcely attack our server and get 100% accuracy, you still can't get your points if your code doesn't make sense to TA."
   ]
  },
  {
   "cell_type": "markdown",
   "id": "vocational-thread",
   "metadata": {},
   "source": [
    "## TA's note\n",
    "\n",
    "Congratuation! You've finished the assignment this week.  \n",
    "Don't forget to <b>[make an appoiment with TA](https://docs.google.com/spreadsheets/d/1QGeYl5dsD9sFO9SYg4DIKk-xr-yGjRDOOLKZqCLDv2E/edit#gid=1902646609) to demo/explain your implementation <u>before <font color=\"red\">11/18 15:30</font></u></b> .  \n",
    "Also make sure you submit your {student_id}.ipynb to [eeclass](https://eeclass.nthu.edu.tw/course/homework/4615).\n",
    "\n",
    "Please note that <font color=\"red\">we will announce our final project on 11/18</font>. Again, **we strongly suggest you join and listen** .  \n",
    "We will have 2 Ph.D. students introduce the selected topics in class and give you some guidelines about how to approach your project.  \n",
    "Also, we will have a team-matching session at the end of the class, in which you may want to participate to find teammates."
   ]
  }
 ],
 "metadata": {
  "interpreter": {
   "hash": "90bd059e05f79fb9b7cf5d2b1dae6ea26ca779772e058f49dd8fbe1978749df0"
  },
  "kernelspec": {
   "display_name": "Python 3",
   "language": "python",
   "name": "python3"
  },
  "language_info": {
   "codemirror_mode": {
    "name": "ipython",
    "version": 3
   },
   "file_extension": ".py",
   "mimetype": "text/x-python",
   "name": "python",
   "nbconvert_exporter": "python",
   "pygments_lexer": "ipython3",
   "version": "3.8.8"
  }
 },
 "nbformat": 4,
 "nbformat_minor": 5
}
