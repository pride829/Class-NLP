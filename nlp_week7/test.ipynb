{
 "cells": [
  {
   "cell_type": "code",
   "execution_count": 16,
   "id": "eba648c2",
   "metadata": {},
   "outputs": [
    {
     "name": "stdout",
     "output_type": "stream",
     "text": [
      "[('a', 1)]\n",
      "[('a', 2), ('b', 2)]\n",
      "[('b', 4)]\n"
     ]
    }
   ],
   "source": [
    "import itertools\n",
    "import operator\n",
    "L = [(\"a\", 1), (\"a\", 2), (\"b\", 2), (\"b\", 4)]\n",
    "  \n",
    "# Key function\n",
    "key_func = lambda x: x[0]\n",
    "  \n",
    "for key, group in itertools.groupby(L, key=operator.itemgetter(1)):\n",
    "    print(list(group))\n",
    "\n"
   ]
  },
  {
   "cell_type": "code",
   "execution_count": 13,
   "id": "ff4005f8",
   "metadata": {},
   "outputs": [
    {
     "data": {
      "text/plain": [
       "operator.itemgetter([('a', 1), ('a', 2), ('b', 3), ('b', 4)])"
      ]
     },
     "execution_count": 13,
     "metadata": {},
     "output_type": "execute_result"
    }
   ],
   "source": [
    "operator.itemgetter(L)"
   ]
  },
  {
   "cell_type": "code",
   "execution_count": 35,
   "id": "373ffd4e",
   "metadata": {},
   "outputs": [
    {
     "data": {
      "text/plain": [
       "[5, 9, 6, 7, 8]"
      ]
     },
     "execution_count": 35,
     "metadata": {},
     "output_type": "execute_result"
    }
   ],
   "source": [
    "set0 = [0,1,2,3]\n",
    "set1 = [[5],[6],[7],[8]]\n",
    "\n",
    "[x for y in set0 for x in set1[y]]\n"
   ]
  },
  {
   "cell_type": "code",
   "execution_count": null,
   "id": "ddf0e178",
   "metadata": {},
   "outputs": [],
   "source": []
  }
 ],
 "metadata": {
  "kernelspec": {
   "display_name": "Python 3",
   "language": "python",
   "name": "python3"
  },
  "language_info": {
   "codemirror_mode": {
    "name": "ipython",
    "version": 3
   },
   "file_extension": ".py",
   "mimetype": "text/x-python",
   "name": "python",
   "nbconvert_exporter": "python",
   "pygments_lexer": "ipython3",
   "version": "3.8.8"
  }
 },
 "nbformat": 4,
 "nbformat_minor": 5
}
